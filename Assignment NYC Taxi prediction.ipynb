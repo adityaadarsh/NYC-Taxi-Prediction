{
 "cells": [
  {
   "cell_type": "markdown",
   "metadata": {
    "colab_type": "text",
    "id": "WROuP70HpYRh"
   },
   "source": [
    "# Taxi demand prediction in New York City\n"
   ]
  },
  {
   "cell_type": "code",
   "execution_count": 1,
   "metadata": {
    "colab": {},
    "colab_type": "code",
    "id": "KwvQLV8ypYRk"
   },
   "outputs": [],
   "source": [
    "%matplotlib inline\n",
    "\n",
    "#Importing Libraries\n",
    "# pip3 install graphviz\n",
    "#pip3 install dask\n",
    "#pip3 install toolz\n",
    "#pip3 install cloudpickle\n",
    "# https://www.youtube.com/watch?v=ieW3G7ZzRZ0\n",
    "# https://github.com/dask/dask-tutorial\n",
    "# please do go through this python notebook: https://github.com/dask/dask-tutorial/blob/master/07_dataframe.ipynb\n",
    "import dask.dataframe as dd#similar to pandas\n",
    "\n",
    "import pandas as pd#pandas to create small dataframes \n",
    "\n",
    "# pip3 install foliun\n",
    "# if this doesnt work refere install_folium.JPG in drive\n",
    "import folium #open street map\n",
    "\n",
    "# unix time: https://www.unixtimestamp.com/\n",
    "import datetime #Convert to unix time\n",
    "\n",
    "import time #Convert to unix time\n",
    "\n",
    "# if numpy is not installed already : pip3 install numpy\n",
    "import numpy as np#Do aritmetic operations on arrays\n",
    "\n",
    "# matplotlib: used to plot graphs\n",
    "import matplotlib\n",
    "# matplotlib.use('nbagg') : matplotlib uses this protocall which makes plots more user intractive like zoom in and zoom out\n",
    "matplotlib.use('nbagg')\n",
    "import matplotlib.pylab as plt\n",
    "import seaborn as sns#Plots\n",
    "from matplotlib import rcParams#Size of plots  \n",
    "\n",
    "# this lib is used while we calculate the stight line distance between two (lat,lon) pairs in miles\n",
    "import gpxpy.geo #Get the haversine distance\n",
    "\n",
    "from sklearn.cluster import MiniBatchKMeans, KMeans#Clustering\n",
    "import math\n",
    "import pickle\n",
    "import os\n",
    "\n",
    "# download migwin: https://mingw-w64.org/doku.php/download/mingw-builds\n",
    "# install it in your system and keep the path, migw_path ='installed path'\n",
    "mingw_path = 'C:\\\\Program Files\\\\mingw-w64\\\\x86_64-5.3.0-posix-seh-rt_v4-rev0\\\\mingw64\\\\bin'\n",
    "os.environ['PATH'] = mingw_path + ';' + os.environ['PATH']\n",
    "\n",
    "# to install xgboost: pip3 install xgboost\n",
    "# if it didnt happen check install_xgboost.JPG\n",
    "import xgboost as xgb\n",
    "\n",
    "# to install sklearn: pip install -U scikit-learn\n",
    "from sklearn.ensemble import RandomForestRegressor\n",
    "from sklearn.metrics import mean_squared_error\n",
    "from sklearn.metrics import mean_absolute_error\n",
    "import warnings\n",
    "warnings.filterwarnings(\"ignore\")"
   ]
  },
  {
   "cell_type": "markdown",
   "metadata": {
    "colab_type": "text",
    "id": "VwlsEx9QpYRo"
   },
   "source": [
    "# Data Information"
   ]
  },
  {
   "cell_type": "markdown",
   "metadata": {
    "colab_type": "text",
    "id": "96ofS5sQpYRo"
   },
   "source": [
    "<p>\n",
    "Ge the data from : http://www.nyc.gov/html/tlc/html/about/trip_record_data.shtml (2016 data)\n",
    "The data used in the attached datasets were collected and provided to the NYC Taxi and Limousine Commission (TLC) \n",
    "</p>"
   ]
  },
  {
   "cell_type": "markdown",
   "metadata": {
    "colab_type": "text",
    "id": "OMOoHkuopYRp"
   },
   "source": [
    "## Information on taxis:\n",
    "\n",
    "<h5> Yellow Taxi: Yellow Medallion Taxicabs</h5>\n",
    "<p> These are the famous NYC yellow taxis that provide transportation exclusively through street-hails. The number of taxicabs is limited by a finite number of medallions issued by the TLC. You access this mode of transportation by standing in the street and hailing an available taxi with your hand. The pickups are not pre-arranged.</p>\n",
    "\n",
    "<h5> For Hire Vehicles (FHVs) </h5>\n",
    "<p> FHV transportation is accessed by a pre-arrangement with a dispatcher or limo company. These FHVs are not permitted to pick up passengers via street hails, as those rides are not considered pre-arranged. </p>\n",
    "\n",
    "<h5> Green Taxi: Street Hail Livery (SHL) </h5>\n",
    "<p>  The SHL program will allow livery vehicle owners to license and outfit their vehicles with green borough taxi branding, meters, credit card machines, and ultimately the right to accept street hails in addition to pre-arranged rides. </p>\n",
    "<p> Credits: Quora</p>\n",
    "\n",
    "<h5>Footnote:</h5>\n",
    "In the given notebook we are considering only the yellow taxis for the time period between Jan - Mar 2015 & Jan - Mar 2016"
   ]
  },
  {
   "cell_type": "markdown",
   "metadata": {
    "colab_type": "text",
    "id": "nIrfeCeZpYRq"
   },
   "source": [
    "# Data Collection\n",
    "We Have collected all yellow taxi trips data from jan-2015 to dec-2016(Will be using only 2015 data)\n",
    "<table>\n",
    "<tr>\n",
    "<th> file name </th>\n",
    "<th> file name size</th>\n",
    "<th> number of records </th>\n",
    "<th> number of features </th>\n",
    "</tr>\n",
    "<tr>\n",
    "<td> yellow_tripdata_2016-01 </td>\n",
    "<td> 1. 59G </td>\n",
    "<td> 10906858 </td>\n",
    "<td> 19 </td>\n",
    "</tr>\n",
    "\n",
    "<tr>\n",
    "<td> yellow_tripdata_2016-02 </td>\n",
    "<td> 1. 66G </td>\n",
    "<td> 11382049 </td>\n",
    "<td> 19 </td>\n",
    "</tr>\n",
    "<tr>\n",
    "<td> yellow_tripdata_2016-03 </td>\n",
    "<td> 1. 78G </td>\n",
    "<td> 12210952 </td>\n",
    "<td> 19 </td>\n",
    "</tr>\n",
    "<tr>\n",
    "<td> yellow_tripdata_2016-04 </td>\n",
    "<td> 1. 74G </td>\n",
    "<td> 11934338 </td>\n",
    "<td> 19 </td>\n",
    "</tr>\n",
    "\n",
    "<tr>\n",
    "<td> yellow_tripdata_2016-05 </td>\n",
    "<td> 1. 73G </td>\n",
    "<td> 11836853 </td>\n",
    "<td> 19 </td>\n",
    "</tr>\n",
    "\n",
    "<tr>\n",
    "<td> yellow_tripdata_2016-06 </td>\n",
    "<td> 1. 62G </td>\n",
    "<td> 11135470 </td>\n",
    "<td> 19 </td>\n",
    "</tr>\n",
    "\n",
    "<tr>\n",
    "<td> yellow_tripdata_2016-07 </td>\n",
    "<td> 884Mb </td>\n",
    "<td> 10294080 </td>\n",
    "<td> 17 </td>\n",
    "</tr>\n",
    "\n",
    "<tr>\n",
    "<td> yellow_tripdata_2016-08 </td>\n",
    "<td> 854Mb </td>\n",
    "<td> 9942263 </td>\n",
    "<td> 17 </td>\n",
    "</tr>\n",
    "\n",
    "<tr>\n",
    "<td> yellow_tripdata_2016-09 </td>\n",
    "<td> 870Mb </td>\n",
    "<td> 10116018 </td>\n",
    "<td> 17 </td>\n",
    "</tr>\n",
    "\n",
    "<tr>\n",
    "<td> yellow_tripdata_2016-10 </td>\n",
    "<td> 933Mb </td>\n",
    "<td> 10854626 </td>\n",
    "<td> 17 </td>\n",
    "</tr>\n",
    "<tr>\n",
    "<td> yellow_tripdata_2016-11 </td>\n",
    "<td> 868Mb </td>\n",
    "<td> 10102128 </td>\n",
    "<td> 17 </td>\n",
    "</tr>\n",
    "<tr>\n",
    "<td> yellow_tripdata_2016-12 </td>\n",
    "<td> 897Mb </td>\n",
    "<td> 10449408 </td>\n",
    "<td> 17 </td>\n",
    "</tr>\n",
    "<tr>\n",
    "<td> yellow_tripdata_2015-01 </td>\n",
    "<td> 1.84Gb </td>\n",
    "<td> 12748986 </td>\n",
    "<td> 19 </td>\n",
    "</tr>\n",
    "<tr>\n",
    "<td> yellow_tripdata_2015-02 </td>\n",
    "<td> 1.81Gb </td>\n",
    "<td> 12450521 </td>\n",
    "<td> 19 </td>\n",
    "</tr>\n",
    "<tr>\n",
    "<td> yellow_tripdata_2015-03 </td>\n",
    "<td> 1.94Gb </td>\n",
    "<td> 13351609 </td>\n",
    "<td> 19 </td>\n",
    "</tr>\n",
    "<tr>\n",
    "<td> yellow_tripdata_2015-04 </td>\n",
    "<td> 1.90Gb </td>\n",
    "<td> 13071789 </td>\n",
    "<td> 19 </td>\n",
    "</tr>\n",
    "<tr>\n",
    "<td> yellow_tripdata_2015-05 </td>\n",
    "<td> 1.91Gb </td>\n",
    "<td> 13158262 </td>\n",
    "<td> 19 </td>\n",
    "</tr>\n",
    "<tr>\n",
    "<td> yellow_tripdata_2015-06 </td>\n",
    "<td> 1.79Gb </td>\n",
    "<td> 12324935 </td>\n",
    "<td> 19 </td>\n",
    "</tr>\n",
    "<tr>\n",
    "<td> yellow_tripdata_2015-07 </td>\n",
    "<td> 1.68Gb </td>\n",
    "<td> 11562783 </td>\n",
    "<td> 19 </td>\n",
    "</tr>\n",
    "<tr>\n",
    "<td> yellow_tripdata_2015-08 </td>\n",
    "<td> 1.62Gb </td>\n",
    "<td> 11130304 </td>\n",
    "<td> 19 </td>\n",
    "</tr>\n",
    "<tr>\n",
    "<td> yellow_tripdata_2015-09 </td>\n",
    "<td> 1.63Gb </td>\n",
    "<td> 11225063 </td>\n",
    "<td> 19 </td>\n",
    "</tr>\n",
    "<tr>\n",
    "<td> yellow_tripdata_2015-10 </td>\n",
    "<td> 1.79Gb </td>\n",
    "<td> 12315488 </td>\n",
    "<td> 19 </td>\n",
    "</tr>\n",
    "<tr>\n",
    "<td> yellow_tripdata_2015-11 </td>\n",
    "<td> 1.65Gb </td>\n",
    "<td> 11312676 </td>\n",
    "<td> 19 </td>\n",
    "</tr>\n",
    "<tr>\n",
    "<td> yellow_tripdata_2015-12 </td>\n",
    "<td> 1.67Gb </td>\n",
    "<td> 11460573 </td>\n",
    "<td> 19 </td>\n",
    "</tr>\n",
    "</table>"
   ]
  },
  {
   "cell_type": "markdown",
   "metadata": {
    "colab_type": "text",
    "id": "2tvbI-GkpYWF"
   },
   "source": [
    "# Assignment\n",
    "\n",
    "        "
   ]
  },
  {
   "cell_type": "code",
   "execution_count": 310,
   "metadata": {
    "colab": {},
    "colab_type": "code",
    "id": "JvEcs6bfpYWG",
    "outputId": "13ef25c8-7c41-4f6f-9fa5-a7085a7e4d2a"
   },
   "outputs": [
    {
     "data": {
      "text/plain": [
       "'\\nTask 1: Incorporate Fourier features as features into Regression models and measure MAPE. <br>\\n\\nTask 2: Perform hyper-parameter tuning for Regression models.\\n        2a. Linear Regression: Grid Search\\n        2b. Random Forest: Random Search \\n        2c. Xgboost: Random Search\\nTask 3: Explore more time-series features using Google search/Quora/Stackoverflow\\nto reduce the MAPE to < 12%\\n'"
      ]
     },
     "execution_count": 310,
     "metadata": {},
     "output_type": "execute_result"
    }
   ],
   "source": [
    "'''\n",
    "Task 1: Incorporate Fourier features as features into Regression models and measure MAPE. <br>\n",
    "\n",
    "Task 2: Perform hyper-parameter tuning for Regression models.\n",
    "        2a. Linear Regression: Grid Search\n",
    "        2b. Random Forest: Random Search \n",
    "        2c. Xgboost: Random Search\n",
    "Task 3: Explore more time-series features using Google search/Quora/Stackoverflow\n",
    "to reduce the MAPE to < 12%\n",
    "'''"
   ]
  },
  {
   "cell_type": "markdown",
   "metadata": {},
   "source": [
    "## Task 1 and 2 : Incorporate Fourier features as features into Regression models and measure and hyper parameter tuning"
   ]
  },
  {
   "cell_type": "code",
   "execution_count": 49,
   "metadata": {},
   "outputs": [],
   "source": [
    "from scipy import vstack,hstack\n",
    "\n",
    "# top 5 amplitute of each month of each cluster/region \n",
    "# features---> 'A1' , 'A2' , 'A3' , 'A4' , 'A5' , 'F1' , 'F2' , 'F3' , 'F4' , 'F5'\n",
    "fourier_feature = [] \n",
    "for i in range(40):\n",
    "    \n",
    "        jan_fft_amp_top5_feat= sorted(np.fft.fft(np.array(regions_cum[i][:4464])), reverse=True)[:5]\n",
    "        jan_fft_freq_top5_feat = sorted(np.fft.fftfreq(4464), reverse=True)[:5]  \n",
    "        clust_jan_frq_amp = [np.hstack([jan_fft_amp_top5_feat,jan_fft_freq_top5_feat]).astype(np.float)] * (4464 - 5) # removing first five 10_min_bins(50 mins)\n",
    "           \n",
    "        \n",
    "        feb_fft_amp_top5_feat = sorted(np.fft.fft(np.array(regions_cum[i][4464:4464+4176])), reverse=True)[:5]\n",
    "        feb_fft_freq_top5_feat = sorted(np.fft.fftfreq(4176), reverse=True)[:5]  \n",
    "        clust_feb_frq_amp = [np.hstack([feb_fft_amp_top5_feat,feb_fft_freq_top5_feat]).astype(np.float)] * 4176\n",
    "        \n",
    "        \n",
    "        mar_fft_amp_top5_feat = sorted(np.fft.fft(np.array(regions_cum[i][4464+4176: ])), reverse=True)[:5]\n",
    "        mar_fft_freq_top5_feat = sorted(np.fft.fftfreq(4176), reverse=True)[:5]  \n",
    "        clust_mar_frq_amp = [np.hstack([mar_fft_amp_top5_feat,mar_fft_freq_top5_feat]).astype(np.float)] * 4464\n",
    "        \n",
    "        fourier_feature.extend(np.vstack([clust_jan_frq_amp, clust_feb_frq_amp, clust_mar_frq_amp]))"
   ]
  },
  {
   "cell_type": "markdown",
   "metadata": {
    "colab_type": "text",
    "id": "eoV1TT2qpYVa"
   },
   "source": [
    "## Regression Models"
   ]
  },
  {
   "cell_type": "markdown",
   "metadata": {
    "colab_type": "text",
    "id": "eN4agQdupYVb"
   },
   "source": [
    "### Train-Test Split\n",
    "Before we start predictions using the tree based regression models we take 3 months of 2016 pickup data and split it such that for every region we have 70% data in train and 30% in test, ordered date-wise for every region"
   ]
  },
  {
   "cell_type": "markdown",
   "metadata": {},
   "source": [
    " \n",
    " \n",
    " \n",
    " "
   ]
  },
  {
   "cell_type": "code",
   "execution_count": 50,
   "metadata": {
    "colab": {},
    "colab_type": "code",
    "id": "31AvW-MApYVf",
    "outputId": "c340d12a-b4d2-4c98-a50d-aa34835318a8"
   },
   "outputs": [
    {
     "name": "stdout",
     "output_type": "stream",
     "text": [
      "size of train data : 9169\n",
      "size of test data : 3929\n"
     ]
    }
   ],
   "source": [
    "# train, test split : 70% 30% split\n",
    "# Before we start predictions using the tree based regression models we take 3 months of 2016 pickup data \n",
    "# and split it such that for every region we have 70% data in train and 30% in test,\n",
    "# ordered date-wise for every region\n",
    "print(\"size of train data :\", int(13099*0.7))\n",
    "print(\"size of test data :\", int(13099*0.3))"
   ]
  },
  {
   "cell_type": "code",
   "execution_count": 51,
   "metadata": {
    "colab": {},
    "colab_type": "code",
    "id": "Ty3ywNTepYVh"
   },
   "outputs": [],
   "source": [
    "# extracting first 9169 timestamp values i.e 70% of 13099 (total timestamps) for our training data\n",
    "train_features =  [tsne_feature[i*13099:(13099*i+9169)] for i in range(0,40)]\n",
    "# temp = [0]*(12955 - 9068)\n",
    "test_features = [tsne_feature[(13099*(i))+9169:13099*(i+1)] for i in range(0,40)]"
   ]
  },
  {
   "cell_type": "code",
   "execution_count": 52,
   "metadata": {
    "colab": {},
    "colab_type": "code",
    "id": "9T0p_qhipYVi",
    "outputId": "0175f0a5-d675-4568-ca3a-3535fc267a4b"
   },
   "outputs": [
    {
     "name": "stdout",
     "output_type": "stream",
     "text": [
      "Number of data clusters 40 Number of data points in trian data 9169 Each data point contains 5 features\n",
      "Number of data clusters 40 Number of data points in test data 3930 Each data point contains 5 features\n"
     ]
    }
   ],
   "source": [
    "print(\"Number of data clusters\",len(train_features), \"Number of data points in trian data\", len(train_features[0]), \"Each data point contains\", len(train_features[0][0]),\"features\")\n",
    "print(\"Number of data clusters\",len(train_features), \"Number of data points in test data\", len(test_features[0]), \"Each data point contains\", len(test_features[0][0]),\"features\")"
   ]
  },
  {
   "cell_type": "code",
   "execution_count": 53,
   "metadata": {},
   "outputs": [],
   "source": [
    "# train and test split of fourier transform feature\n",
    "# extracting first 9169 timestamp values i.e 70% of 13099 (total timestamps) for our training data\n",
    "train_fft_features =  [fourier_feature[i*13099:(13099*i+9169)] for i in range(0,40)]\n",
    "# temp = [0]*(12955 - 9068)\n",
    "test_fft_features = [fourier_feature[(13099*(i))+9169:13099*(i+1)] for i in range(0,40)]"
   ]
  },
  {
   "cell_type": "code",
   "execution_count": 54,
   "metadata": {
    "colab": {},
    "colab_type": "code",
    "id": "cUrc4FPepYVk"
   },
   "outputs": [],
   "source": [
    "# extracting first 9169 timestamp values i.e 70% of 13099 (total timestamps) for our training data\n",
    "tsne_train_flat_lat = [i[:9169] for i in tsne_lat]\n",
    "tsne_train_flat_lon = [i[:9169] for i in tsne_lon]\n",
    "tsne_train_flat_weekday = [i[:9169] for i in tsne_weekday]\n",
    "tsne_train_flat_output = [i[:9169] for i in output]\n",
    "tsne_train_flat_exp_avg = [i[:9169] for i in predict_list]"
   ]
  },
  {
   "cell_type": "code",
   "execution_count": 55,
   "metadata": {
    "colab": {},
    "colab_type": "code",
    "id": "jJ4h3S58pYVl"
   },
   "outputs": [],
   "source": [
    "# extracting the rest of the timestamp values i.e 30% of 12956 (total timestamps) for our test data\n",
    "tsne_test_flat_lat = [i[9169:] for i in tsne_lat]\n",
    "tsne_test_flat_lon = [i[9169:] for i in tsne_lon]\n",
    "tsne_test_flat_weekday = [i[9169:] for i in tsne_weekday]\n",
    "tsne_test_flat_output = [i[9169:] for i in output]\n",
    "tsne_test_flat_exp_avg = [i[9169:] for i in predict_list]"
   ]
  },
  {
   "cell_type": "code",
   "execution_count": 56,
   "metadata": {
    "colab": {},
    "colab_type": "code",
    "id": "A3_aVVZnpYVm"
   },
   "outputs": [],
   "source": [
    "# the above contains values in the form of list of lists (i.e. list of values of each region), here we make all of them in one list\n",
    "train_new_features = []\n",
    "for i in range(0,40):\n",
    "    train_new_features.extend(train_features[i])\n",
    "test_new_features = []\n",
    "for i in range(0,40):\n",
    "    test_new_features.extend(test_features[i])\n",
    "    \n",
    "# fourier transformed feature\n",
    "# the above contains values in the form of list of lists (i.e. list of values of each region), here we make all of them in one list for fourier transformed feature\n",
    "train_new_fft_features = []\n",
    "for i in range(0,40):\n",
    "    train_new_fft_features.extend(train_fft_features[i])\n",
    "test_new_fft_features = []\n",
    "for i in range(0,40):\n",
    "    test_new_fft_features.extend(test_fft_features[i])   \n",
    "    "
   ]
  },
  {
   "cell_type": "code",
   "execution_count": 57,
   "metadata": {
    "colab": {},
    "colab_type": "code",
    "id": "CacNoTj8pYVo"
   },
   "outputs": [],
   "source": [
    "# converting lists of lists into sinle list i.e flatten\n",
    "# a  = [[1,2,3,4],[4,6,7,8]]\n",
    "# print(sum(a,[]))\n",
    "# [1, 2, 3, 4, 4, 6, 7, 8]\n",
    "\n",
    "tsne_train_lat = sum(tsne_train_flat_lat, [])\n",
    "tsne_train_lon = sum(tsne_train_flat_lon, [])\n",
    "tsne_train_weekday = sum(tsne_train_flat_weekday, [])\n",
    "tsne_train_output = sum(tsne_train_flat_output, [])\n",
    "tsne_train_exp_avg = sum(tsne_train_flat_exp_avg,[])"
   ]
  },
  {
   "cell_type": "code",
   "execution_count": 58,
   "metadata": {
    "colab": {},
    "colab_type": "code",
    "id": "vAHbGnkopYVs"
   },
   "outputs": [],
   "source": [
    "# converting lists of lists into sinle list i.e flatten\n",
    "# a  = [[1,2,3,4],[4,6,7,8]]\n",
    "# print(sum(a,[]))\n",
    "# [1, 2, 3, 4, 4, 6, 7, 8]\n",
    "\n",
    "tsne_test_lat = sum(tsne_test_flat_lat, [])\n",
    "tsne_test_lon = sum(tsne_test_flat_lon, [])\n",
    "tsne_test_weekday = sum(tsne_test_flat_weekday, [])\n",
    "tsne_test_output = sum(tsne_test_flat_output, [])\n",
    "tsne_test_exp_avg = sum(tsne_test_flat_exp_avg,[])"
   ]
  },
  {
   "cell_type": "code",
   "execution_count": 59,
   "metadata": {},
   "outputs": [
    {
     "name": "stdout",
     "output_type": "stream",
     "text": [
      "(366760, 19)\n"
     ]
    },
    {
     "data": {
      "text/html": [
       "<div>\n",
       "<style scoped>\n",
       "    .dataframe tbody tr th:only-of-type {\n",
       "        vertical-align: middle;\n",
       "    }\n",
       "\n",
       "    .dataframe tbody tr th {\n",
       "        vertical-align: top;\n",
       "    }\n",
       "\n",
       "    .dataframe thead th {\n",
       "        text-align: right;\n",
       "    }\n",
       "</style>\n",
       "<table border=\"1\" class=\"dataframe\">\n",
       "  <thead>\n",
       "    <tr style=\"text-align: right;\">\n",
       "      <th></th>\n",
       "      <th>ft_5</th>\n",
       "      <th>ft_4</th>\n",
       "      <th>ft_3</th>\n",
       "      <th>ft_2</th>\n",
       "      <th>ft_1</th>\n",
       "      <th>amp1</th>\n",
       "      <th>amp2</th>\n",
       "      <th>amp3</th>\n",
       "      <th>amp4</th>\n",
       "      <th>amp5</th>\n",
       "      <th>freq1</th>\n",
       "      <th>freq2</th>\n",
       "      <th>freq3</th>\n",
       "      <th>freq4</th>\n",
       "      <th>freq5</th>\n",
       "      <th>lat</th>\n",
       "      <th>lon</th>\n",
       "      <th>weekday</th>\n",
       "      <th>exp_avg</th>\n",
       "    </tr>\n",
       "  </thead>\n",
       "  <tbody>\n",
       "    <tr>\n",
       "      <td>0</td>\n",
       "      <td>0.0</td>\n",
       "      <td>0.0</td>\n",
       "      <td>0.0</td>\n",
       "      <td>0.0</td>\n",
       "      <td>0.0</td>\n",
       "      <td>367173.0</td>\n",
       "      <td>94490.188858</td>\n",
       "      <td>94490.188858</td>\n",
       "      <td>14349.849101</td>\n",
       "      <td>14349.849101</td>\n",
       "      <td>0.499776</td>\n",
       "      <td>0.499552</td>\n",
       "      <td>0.499328</td>\n",
       "      <td>0.499104</td>\n",
       "      <td>0.49888</td>\n",
       "      <td>40.776228</td>\n",
       "      <td>-73.982119</td>\n",
       "      <td>4</td>\n",
       "      <td>0</td>\n",
       "    </tr>\n",
       "    <tr>\n",
       "      <td>1</td>\n",
       "      <td>0.0</td>\n",
       "      <td>0.0</td>\n",
       "      <td>0.0</td>\n",
       "      <td>0.0</td>\n",
       "      <td>0.0</td>\n",
       "      <td>367173.0</td>\n",
       "      <td>94490.188858</td>\n",
       "      <td>94490.188858</td>\n",
       "      <td>14349.849101</td>\n",
       "      <td>14349.849101</td>\n",
       "      <td>0.499776</td>\n",
       "      <td>0.499552</td>\n",
       "      <td>0.499328</td>\n",
       "      <td>0.499104</td>\n",
       "      <td>0.49888</td>\n",
       "      <td>40.776228</td>\n",
       "      <td>-73.982119</td>\n",
       "      <td>4</td>\n",
       "      <td>0</td>\n",
       "    </tr>\n",
       "    <tr>\n",
       "      <td>2</td>\n",
       "      <td>0.0</td>\n",
       "      <td>0.0</td>\n",
       "      <td>0.0</td>\n",
       "      <td>0.0</td>\n",
       "      <td>0.0</td>\n",
       "      <td>367173.0</td>\n",
       "      <td>94490.188858</td>\n",
       "      <td>94490.188858</td>\n",
       "      <td>14349.849101</td>\n",
       "      <td>14349.849101</td>\n",
       "      <td>0.499776</td>\n",
       "      <td>0.499552</td>\n",
       "      <td>0.499328</td>\n",
       "      <td>0.499104</td>\n",
       "      <td>0.49888</td>\n",
       "      <td>40.776228</td>\n",
       "      <td>-73.982119</td>\n",
       "      <td>4</td>\n",
       "      <td>0</td>\n",
       "    </tr>\n",
       "    <tr>\n",
       "      <td>3</td>\n",
       "      <td>0.0</td>\n",
       "      <td>0.0</td>\n",
       "      <td>0.0</td>\n",
       "      <td>0.0</td>\n",
       "      <td>0.0</td>\n",
       "      <td>367173.0</td>\n",
       "      <td>94490.188858</td>\n",
       "      <td>94490.188858</td>\n",
       "      <td>14349.849101</td>\n",
       "      <td>14349.849101</td>\n",
       "      <td>0.499776</td>\n",
       "      <td>0.499552</td>\n",
       "      <td>0.499328</td>\n",
       "      <td>0.499104</td>\n",
       "      <td>0.49888</td>\n",
       "      <td>40.776228</td>\n",
       "      <td>-73.982119</td>\n",
       "      <td>4</td>\n",
       "      <td>0</td>\n",
       "    </tr>\n",
       "    <tr>\n",
       "      <td>4</td>\n",
       "      <td>0.0</td>\n",
       "      <td>0.0</td>\n",
       "      <td>0.0</td>\n",
       "      <td>0.0</td>\n",
       "      <td>0.0</td>\n",
       "      <td>367173.0</td>\n",
       "      <td>94490.188858</td>\n",
       "      <td>94490.188858</td>\n",
       "      <td>14349.849101</td>\n",
       "      <td>14349.849101</td>\n",
       "      <td>0.499776</td>\n",
       "      <td>0.499552</td>\n",
       "      <td>0.499328</td>\n",
       "      <td>0.499104</td>\n",
       "      <td>0.49888</td>\n",
       "      <td>40.776228</td>\n",
       "      <td>-73.982119</td>\n",
       "      <td>4</td>\n",
       "      <td>0</td>\n",
       "    </tr>\n",
       "  </tbody>\n",
       "</table>\n",
       "</div>"
      ],
      "text/plain": [
       "   ft_5  ft_4  ft_3  ft_2  ft_1      amp1          amp2          amp3  \\\n",
       "0   0.0   0.0   0.0   0.0   0.0  367173.0  94490.188858  94490.188858   \n",
       "1   0.0   0.0   0.0   0.0   0.0  367173.0  94490.188858  94490.188858   \n",
       "2   0.0   0.0   0.0   0.0   0.0  367173.0  94490.188858  94490.188858   \n",
       "3   0.0   0.0   0.0   0.0   0.0  367173.0  94490.188858  94490.188858   \n",
       "4   0.0   0.0   0.0   0.0   0.0  367173.0  94490.188858  94490.188858   \n",
       "\n",
       "           amp4          amp5     freq1     freq2     freq3     freq4  \\\n",
       "0  14349.849101  14349.849101  0.499776  0.499552  0.499328  0.499104   \n",
       "1  14349.849101  14349.849101  0.499776  0.499552  0.499328  0.499104   \n",
       "2  14349.849101  14349.849101  0.499776  0.499552  0.499328  0.499104   \n",
       "3  14349.849101  14349.849101  0.499776  0.499552  0.499328  0.499104   \n",
       "4  14349.849101  14349.849101  0.499776  0.499552  0.499328  0.499104   \n",
       "\n",
       "     freq5        lat        lon  weekday  exp_avg  \n",
       "0  0.49888  40.776228 -73.982119        4        0  \n",
       "1  0.49888  40.776228 -73.982119        4        0  \n",
       "2  0.49888  40.776228 -73.982119        4        0  \n",
       "3  0.49888  40.776228 -73.982119        4        0  \n",
       "4  0.49888  40.776228 -73.982119        4        0  "
      ]
     },
     "execution_count": 59,
     "metadata": {},
     "output_type": "execute_result"
    }
   ],
   "source": [
    "# Preparing the data frame for our train data\n",
    "columns = ['ft_5','ft_4','ft_3','ft_2','ft_1',\"amp1\", \"amp2\", \"amp3\", \"amp4\", \"amp5\", \"freq1\", \"freq2\", \"freq3\", \"freq4\", \"freq5\"]\n",
    "df_train = pd.DataFrame(data=np.hstack([train_new_features,train_new_fft_features]), columns=columns) \n",
    "df_train['lat'] = tsne_train_lat\n",
    "df_train['lon'] = tsne_train_lon\n",
    "df_train['weekday'] = tsne_train_weekday\n",
    "df_train['exp_avg'] = tsne_train_exp_avg\n",
    "\n",
    "print(df_train.shape)\n",
    "df_train.head()"
   ]
  },
  {
   "cell_type": "code",
   "execution_count": 60,
   "metadata": {},
   "outputs": [
    {
     "name": "stdout",
     "output_type": "stream",
     "text": [
      "(157200, 19)\n"
     ]
    }
   ],
   "source": [
    "# Preparing the data frame for our train data\n",
    "df_test = pd.DataFrame(data=np.hstack([test_new_features,test_new_fft_features]), columns=columns) \n",
    "df_test['lat'] = tsne_test_lat\n",
    "df_test['lon'] = tsne_test_lon\n",
    "df_test['weekday'] = tsne_test_weekday\n",
    "df_test['exp_avg'] = tsne_test_exp_avg\n",
    "print(df_test.shape)"
   ]
  },
  {
   "cell_type": "code",
   "execution_count": 61,
   "metadata": {
    "colab": {},
    "colab_type": "code",
    "id": "eQj1LfMnpYVx",
    "outputId": "a369ae64-f86b-4990-ca77-9f650b553423"
   },
   "outputs": [
    {
     "data": {
      "text/html": [
       "<div>\n",
       "<style scoped>\n",
       "    .dataframe tbody tr th:only-of-type {\n",
       "        vertical-align: middle;\n",
       "    }\n",
       "\n",
       "    .dataframe tbody tr th {\n",
       "        vertical-align: top;\n",
       "    }\n",
       "\n",
       "    .dataframe thead th {\n",
       "        text-align: right;\n",
       "    }\n",
       "</style>\n",
       "<table border=\"1\" class=\"dataframe\">\n",
       "  <thead>\n",
       "    <tr style=\"text-align: right;\">\n",
       "      <th></th>\n",
       "      <th>ft_5</th>\n",
       "      <th>ft_4</th>\n",
       "      <th>ft_3</th>\n",
       "      <th>ft_2</th>\n",
       "      <th>ft_1</th>\n",
       "      <th>amp1</th>\n",
       "      <th>amp2</th>\n",
       "      <th>amp3</th>\n",
       "      <th>amp4</th>\n",
       "      <th>amp5</th>\n",
       "      <th>freq1</th>\n",
       "      <th>freq2</th>\n",
       "      <th>freq3</th>\n",
       "      <th>freq4</th>\n",
       "      <th>freq5</th>\n",
       "      <th>lat</th>\n",
       "      <th>lon</th>\n",
       "      <th>weekday</th>\n",
       "      <th>exp_avg</th>\n",
       "    </tr>\n",
       "  </thead>\n",
       "  <tbody>\n",
       "    <tr>\n",
       "      <td>0</td>\n",
       "      <td>143.0</td>\n",
       "      <td>145.0</td>\n",
       "      <td>119.0</td>\n",
       "      <td>113.0</td>\n",
       "      <td>124.0</td>\n",
       "      <td>387761.0</td>\n",
       "      <td>91160.781939</td>\n",
       "      <td>91160.781939</td>\n",
       "      <td>17509.351171</td>\n",
       "      <td>17509.351171</td>\n",
       "      <td>0.499761</td>\n",
       "      <td>0.499521</td>\n",
       "      <td>0.499282</td>\n",
       "      <td>0.499042</td>\n",
       "      <td>0.498803</td>\n",
       "      <td>40.776228</td>\n",
       "      <td>-73.982119</td>\n",
       "      <td>4</td>\n",
       "      <td>121</td>\n",
       "    </tr>\n",
       "    <tr>\n",
       "      <td>1</td>\n",
       "      <td>145.0</td>\n",
       "      <td>119.0</td>\n",
       "      <td>113.0</td>\n",
       "      <td>124.0</td>\n",
       "      <td>121.0</td>\n",
       "      <td>387761.0</td>\n",
       "      <td>91160.781939</td>\n",
       "      <td>91160.781939</td>\n",
       "      <td>17509.351171</td>\n",
       "      <td>17509.351171</td>\n",
       "      <td>0.499761</td>\n",
       "      <td>0.499521</td>\n",
       "      <td>0.499282</td>\n",
       "      <td>0.499042</td>\n",
       "      <td>0.498803</td>\n",
       "      <td>40.776228</td>\n",
       "      <td>-73.982119</td>\n",
       "      <td>4</td>\n",
       "      <td>120</td>\n",
       "    </tr>\n",
       "    <tr>\n",
       "      <td>2</td>\n",
       "      <td>119.0</td>\n",
       "      <td>113.0</td>\n",
       "      <td>124.0</td>\n",
       "      <td>121.0</td>\n",
       "      <td>131.0</td>\n",
       "      <td>387761.0</td>\n",
       "      <td>91160.781939</td>\n",
       "      <td>91160.781939</td>\n",
       "      <td>17509.351171</td>\n",
       "      <td>17509.351171</td>\n",
       "      <td>0.499761</td>\n",
       "      <td>0.499521</td>\n",
       "      <td>0.499282</td>\n",
       "      <td>0.499042</td>\n",
       "      <td>0.498803</td>\n",
       "      <td>40.776228</td>\n",
       "      <td>-73.982119</td>\n",
       "      <td>4</td>\n",
       "      <td>127</td>\n",
       "    </tr>\n",
       "    <tr>\n",
       "      <td>3</td>\n",
       "      <td>113.0</td>\n",
       "      <td>124.0</td>\n",
       "      <td>121.0</td>\n",
       "      <td>131.0</td>\n",
       "      <td>110.0</td>\n",
       "      <td>387761.0</td>\n",
       "      <td>91160.781939</td>\n",
       "      <td>91160.781939</td>\n",
       "      <td>17509.351171</td>\n",
       "      <td>17509.351171</td>\n",
       "      <td>0.499761</td>\n",
       "      <td>0.499521</td>\n",
       "      <td>0.499282</td>\n",
       "      <td>0.499042</td>\n",
       "      <td>0.498803</td>\n",
       "      <td>40.776228</td>\n",
       "      <td>-73.982119</td>\n",
       "      <td>4</td>\n",
       "      <td>115</td>\n",
       "    </tr>\n",
       "    <tr>\n",
       "      <td>4</td>\n",
       "      <td>124.0</td>\n",
       "      <td>121.0</td>\n",
       "      <td>131.0</td>\n",
       "      <td>110.0</td>\n",
       "      <td>116.0</td>\n",
       "      <td>387761.0</td>\n",
       "      <td>91160.781939</td>\n",
       "      <td>91160.781939</td>\n",
       "      <td>17509.351171</td>\n",
       "      <td>17509.351171</td>\n",
       "      <td>0.499761</td>\n",
       "      <td>0.499521</td>\n",
       "      <td>0.499282</td>\n",
       "      <td>0.499042</td>\n",
       "      <td>0.498803</td>\n",
       "      <td>40.776228</td>\n",
       "      <td>-73.982119</td>\n",
       "      <td>4</td>\n",
       "      <td>115</td>\n",
       "    </tr>\n",
       "  </tbody>\n",
       "</table>\n",
       "</div>"
      ],
      "text/plain": [
       "    ft_5   ft_4   ft_3   ft_2   ft_1      amp1          amp2          amp3  \\\n",
       "0  143.0  145.0  119.0  113.0  124.0  387761.0  91160.781939  91160.781939   \n",
       "1  145.0  119.0  113.0  124.0  121.0  387761.0  91160.781939  91160.781939   \n",
       "2  119.0  113.0  124.0  121.0  131.0  387761.0  91160.781939  91160.781939   \n",
       "3  113.0  124.0  121.0  131.0  110.0  387761.0  91160.781939  91160.781939   \n",
       "4  124.0  121.0  131.0  110.0  116.0  387761.0  91160.781939  91160.781939   \n",
       "\n",
       "           amp4          amp5     freq1     freq2     freq3     freq4  \\\n",
       "0  17509.351171  17509.351171  0.499761  0.499521  0.499282  0.499042   \n",
       "1  17509.351171  17509.351171  0.499761  0.499521  0.499282  0.499042   \n",
       "2  17509.351171  17509.351171  0.499761  0.499521  0.499282  0.499042   \n",
       "3  17509.351171  17509.351171  0.499761  0.499521  0.499282  0.499042   \n",
       "4  17509.351171  17509.351171  0.499761  0.499521  0.499282  0.499042   \n",
       "\n",
       "      freq5        lat        lon  weekday  exp_avg  \n",
       "0  0.498803  40.776228 -73.982119        4      121  \n",
       "1  0.498803  40.776228 -73.982119        4      120  \n",
       "2  0.498803  40.776228 -73.982119        4      127  \n",
       "3  0.498803  40.776228 -73.982119        4      115  \n",
       "4  0.498803  40.776228 -73.982119        4      115  "
      ]
     },
     "execution_count": 61,
     "metadata": {},
     "output_type": "execute_result"
    }
   ],
   "source": [
    "df_test.head()"
   ]
  },
  {
   "cell_type": "markdown",
   "metadata": {
    "colab_type": "text",
    "id": "rykiaxYlpYVz"
   },
   "source": [
    "### Using Linear Regression"
   ]
  },
  {
   "cell_type": "code",
   "execution_count": 390,
   "metadata": {},
   "outputs": [
    {
     "name": "stdout",
     "output_type": "stream",
     "text": [
      "Fitting 3 folds for each of 5 candidates, totalling 15 fits\n"
     ]
    },
    {
     "name": "stderr",
     "output_type": "stream",
     "text": [
      "[Parallel(n_jobs=-1)]: Using backend LokyBackend with 8 concurrent workers.\n",
      "[Parallel(n_jobs=-1)]: Done   2 out of  15 | elapsed:   22.2s remaining:  2.4min\n",
      "[Parallel(n_jobs=-1)]: Done   4 out of  15 | elapsed:   32.0s remaining:  1.5min\n",
      "[Parallel(n_jobs=-1)]: Done   6 out of  15 | elapsed:   41.6s remaining:  1.0min\n",
      "[Parallel(n_jobs=-1)]: Done   8 out of  15 | elapsed:   50.9s remaining:   44.5s\n",
      "[Parallel(n_jobs=-1)]: Done  10 out of  15 | elapsed:   55.0s remaining:   27.5s\n",
      "[Parallel(n_jobs=-1)]: Done  12 out of  15 | elapsed:  1.1min remaining:   16.2s\n",
      "[Parallel(n_jobs=-1)]: Done  15 out of  15 | elapsed:  1.3min finished\n"
     ]
    },
    {
     "data": {
      "text/plain": [
       "GridSearchCV(cv='warn', error_score='raise-deprecating',\n",
       "             estimator=Lasso(alpha=1.0, copy_X=True, fit_intercept=True,\n",
       "                             max_iter=1000, normalize=False, positive=False,\n",
       "                             precompute=False, random_state=None,\n",
       "                             selection='cyclic', tol=0.0001, warm_start=False),\n",
       "             iid='warn', n_jobs=-1,\n",
       "             param_grid={'alpha': [0.001, 0.01, 0.1, 1, 10]},\n",
       "             pre_dispatch='2*n_jobs', refit=True, return_train_score=False,\n",
       "             scoring='neg_mean_absolute_error', verbose=10)"
      ]
     },
     "execution_count": 390,
     "metadata": {},
     "output_type": "execute_result"
    }
   ],
   "source": [
    "## Hyper Parameter tuning\n",
    "from sklearn.model_selection import GridSearchCV\n",
    "from sklearn.linear_model import Lasso\n",
    "\n",
    "clf_lin_reg = Lasso(alpha=1.0)\n",
    "\n",
    "param={'alpha':[0.001,0.01,0.1,1,10]}\n",
    "gscv=GridSearchCV(estimator=clf_lin_reg, param_grid = param, scoring='neg_mean_absolute_error', n_jobs=-1,verbose=10)\n",
    "gscv.fit(df_train, tsne_train_output)"
   ]
  },
  {
   "cell_type": "code",
   "execution_count": 397,
   "metadata": {},
   "outputs": [
    {
     "name": "stdout",
     "output_type": "stream",
     "text": [
      "Best Param:  {'alpha': 0.001}\n",
      "\n",
      "Best Score:  8.673587450397548\n"
     ]
    }
   ],
   "source": [
    "print(\"Best Param: \",gscv.best_params_)\n",
    "print(\"\\nBest Score: \",-gscv.best_score_)"
   ]
  },
  {
   "cell_type": "code",
   "execution_count": 400,
   "metadata": {
    "colab": {},
    "colab_type": "code",
    "id": "a4-FX3CdpYV0"
   },
   "outputs": [
    {
     "name": "stdout",
     "output_type": "stream",
     "text": [
      "Test MAPE :  0.1346818043304668\n"
     ]
    }
   ],
   "source": [
    "# Traning Using Optimal Parameter\n",
    "from sklearn.linear_model import LinearRegression\n",
    "lr_reg=Lasso(alpha=0.001).fit(df_train, tsne_train_output)\n",
    "\n",
    "y_pred = lr_reg.predict(df_test)\n",
    "lr_test_predictions = [round(value) for value in y_pred]\n",
    "y_pred = lr_reg.predict(df_train)\n",
    "lr_train_predictions = [round(value) for value in y_pred]\n",
    "\n",
    "print(\"Test MAPE : \",(mean_absolute_error(tsne_test_output, lr_test_predictions))/(sum(tsne_test_output)/len(tsne_test_output)))"
   ]
  },
  {
   "cell_type": "markdown",
   "metadata": {
    "colab_type": "text",
    "id": "CbdQSLMipYV1"
   },
   "source": [
    "### Using Random Forest Regressor"
   ]
  },
  {
   "cell_type": "code",
   "execution_count": 404,
   "metadata": {},
   "outputs": [
    {
     "name": "stdout",
     "output_type": "stream",
     "text": [
      "Fitting 3 folds for each of 10 candidates, totalling 30 fits\n"
     ]
    },
    {
     "name": "stderr",
     "output_type": "stream",
     "text": [
      "[Parallel(n_jobs=-1)]: Using backend LokyBackend with 8 concurrent workers.\n",
      "[Parallel(n_jobs=-1)]: Done   2 tasks      | elapsed:   22.0s\n",
      "[Parallel(n_jobs=-1)]: Done   9 tasks      | elapsed:   57.4s\n",
      "[Parallel(n_jobs=-1)]: Done  19 out of  30 | elapsed:  1.8min remaining:  1.1min\n",
      "[Parallel(n_jobs=-1)]: Done  23 out of  30 | elapsed:  2.4min remaining:   44.0s\n",
      "[Parallel(n_jobs=-1)]: Done  27 out of  30 | elapsed:  2.7min remaining:   18.3s\n",
      "[Parallel(n_jobs=-1)]: Done  30 out of  30 | elapsed:  3.1min finished\n"
     ]
    },
    {
     "data": {
      "text/plain": [
       "RandomizedSearchCV(cv='warn', error_score='raise-deprecating',\n",
       "                   estimator=RandomForestRegressor(bootstrap=True,\n",
       "                                                   criterion='mse',\n",
       "                                                   max_depth=None,\n",
       "                                                   max_features='sqrt',\n",
       "                                                   max_leaf_nodes=None,\n",
       "                                                   min_impurity_decrease=0.0,\n",
       "                                                   min_impurity_split=None,\n",
       "                                                   min_samples_leaf=1,\n",
       "                                                   min_samples_split=2,\n",
       "                                                   min_weight_fraction_leaf=0.0,\n",
       "                                                   n_estimators=40, n_jobs=-1,\n",
       "                                                   oob_score=False,\n",
       "                                                   random_state=None, verbose=0,\n",
       "                                                   warm_start=False),\n",
       "                   iid='warn', n_iter=10, n_jobs=-1,\n",
       "                   param_distributions={'max_depth': [3, 5, 10, 15, 30],\n",
       "                                        'n_estimators': [20, 50, 100, 200,\n",
       "                                                         500]},\n",
       "                   pre_dispatch='2*n_jobs', random_state=None, refit=True,\n",
       "                   return_train_score=False, scoring='neg_mean_absolute_error',\n",
       "                   verbose=10)"
      ]
     },
     "execution_count": 404,
     "metadata": {},
     "output_type": "execute_result"
    }
   ],
   "source": [
    "## Hyper Parameter tuning using random search\n",
    "from sklearn.model_selection import RandomizedSearchCV\n",
    "\n",
    "clf_rf = RandomForestRegressor(max_features='sqrt',max_depth=None, n_estimators=40, n_jobs=-1)\n",
    "param={'max_depth':[3,5,10,15,30],\"n_estimators\":[20,50,100,200,500]}\n",
    "\n",
    "rscv= RandomizedSearchCV(estimator = clf_rf, param_distributions = param, scoring='neg_mean_absolute_error', n_jobs=-1,verbose=10)\n",
    "rscv.fit(df_train, tsne_train_output)"
   ]
  },
  {
   "cell_type": "code",
   "execution_count": 405,
   "metadata": {},
   "outputs": [
    {
     "name": "stdout",
     "output_type": "stream",
     "text": [
      "Best Param:  {'n_estimators': 200, 'max_depth': 10}\n",
      "\n",
      "Best Score:  8.707279030116073\n"
     ]
    }
   ],
   "source": [
    "print(\"Best Param: \",rscv.best_params_)\n",
    "print(\"\\nBest Score: \",-rscv.best_score_)"
   ]
  },
  {
   "cell_type": "code",
   "execution_count": 409,
   "metadata": {},
   "outputs": [
    {
     "name": "stdout",
     "output_type": "stream",
     "text": [
      "Train MAPE :  0.1368512323624647\n",
      "Test MAPE :  0.1345528473427501\n"
     ]
    }
   ],
   "source": [
    "#Traning Using Optimal Hyperparameter\n",
    "regr1 = RandomForestRegressor(max_features='sqrt',max_depth=10, n_estimators=200, n_jobs=-1)\n",
    "regr1.fit(df_train, tsne_train_output)\n",
    "\n",
    "# Predicting on test data using our trained random forest model \n",
    "\n",
    "# the models regr1 is already hyper parameter tuned\n",
    "# the parameters that we got above are found using grid search\n",
    "y_pred = regr1.predict(df_test)\n",
    "rndf_test_predictions = [round(value) for value in y_pred]\n",
    "y_pred = regr1.predict(df_train)\n",
    "rndf_train_predictions = [round(value) for value in y_pred]\n",
    "\n",
    "\n",
    "print(\"Train MAPE : \",(mean_absolute_error(tsne_train_output, rndf_train_predictions))/(sum(tsne_train_output)/len(tsne_train_output)))\n",
    "print(\"Test MAPE : \",(mean_absolute_error(tsne_test_output, rndf_test_predictions))/(sum(tsne_test_output)/len(tsne_test_output)))"
   ]
  },
  {
   "cell_type": "code",
   "execution_count": 411,
   "metadata": {
    "colab": {},
    "colab_type": "code",
    "id": "iAw-LW-PpYV5",
    "outputId": "c112d47f-6cb6-4be2-f212-469777c8d17e"
   },
   "outputs": [
    {
     "name": "stdout",
     "output_type": "stream",
     "text": [
      "Index(['ft_5', 'ft_4', 'ft_3', 'ft_2', 'ft_1', 'amp1', 'amp2', 'amp3', 'amp4',\n",
      "       'amp5', 'freq1', 'freq2', 'freq3', 'freq4', 'freq5', 'lat', 'lon',\n",
      "       'weekday', 'exp_avg'],\n",
      "      dtype='object')\n",
      "[8.86960207e-02 1.07706847e-01 1.38791168e-01 2.02615824e-01\n",
      " 1.76294874e-01 1.70238361e-02 6.54180559e-03 6.29633501e-03\n",
      " 4.27791512e-03 4.23602924e-03 3.66332410e-05 3.21296205e-05\n",
      " 3.49534810e-05 2.95853407e-05 2.67832446e-05 4.44513356e-04\n",
      " 7.20698144e-04 1.67374390e-04 2.46026674e-01]\n"
     ]
    },
    {
     "data": {
      "image/png": "[encoded data removed]",
      "text/plain": [
       "<Figure size 648x360 with 1 Axes>"
      ]
     },
     "metadata": {
      "needs_background": "light"
     },
     "output_type": "display_data"
    }
   ],
   "source": [
    "#feature importances based on analysis using random forest\n",
    "print (df_train.columns)\n",
    "print (regr1.feature_importances_)\n",
    "\n",
    "plt.figure(figsize=(9,5))\n",
    "plt.title(\"Feature Importance : RF\")\n",
    "plt.bar(df_train.columns,regr1.feature_importances_)\n",
    "plt.xticks(np.arange(len(df_train.columns)),df_train.columns,rotation=75)\n",
    "plt.grid()\n",
    "plt.show()"
   ]
  },
  {
   "cell_type": "markdown",
   "metadata": {
    "colab_type": "text",
    "id": "4p0IhKaSpYV6"
   },
   "source": [
    "### Using XgBoost Regressor"
   ]
  },
  {
   "cell_type": "code",
   "execution_count": 428,
   "metadata": {},
   "outputs": [
    {
     "name": "stdout",
     "output_type": "stream",
     "text": [
      "Fitting 3 folds for each of 10 candidates, totalling 30 fits\n",
      "[CV] n_estimators=200, max_depth=10, learning_rate=1 .................\n",
      "[06:53:02] WARNING: /workspace/src/objective/regression_obj.cu:152: reg:linear is now deprecated in favor of reg:squarederror.\n"
     ]
    },
    {
     "name": "stderr",
     "output_type": "stream",
     "text": [
      "[Parallel(n_jobs=1)]: Using backend SequentialBackend with 1 concurrent workers.\n"
     ]
    },
    {
     "name": "stdout",
     "output_type": "stream",
     "text": [
      "[CV]  n_estimators=200, max_depth=10, learning_rate=1, score=-13.310, total=  25.6s\n",
      "[CV] n_estimators=200, max_depth=10, learning_rate=1 .................\n",
      "[06:53:28] WARNING: /workspace/src/objective/regression_obj.cu:152: reg:linear is now deprecated in favor of reg:squarederror.\n"
     ]
    },
    {
     "name": "stderr",
     "output_type": "stream",
     "text": [
      "[Parallel(n_jobs=1)]: Done   1 out of   1 | elapsed:   25.6s remaining:    0.0s\n"
     ]
    },
    {
     "name": "stdout",
     "output_type": "stream",
     "text": [
      "[CV]  n_estimators=200, max_depth=10, learning_rate=1, score=-11.170, total=  26.1s\n",
      "[CV] n_estimators=200, max_depth=10, learning_rate=1 .................\n",
      "[06:53:54] WARNING: /workspace/src/objective/regression_obj.cu:152: reg:linear is now deprecated in favor of reg:squarederror.\n"
     ]
    },
    {
     "name": "stderr",
     "output_type": "stream",
     "text": [
      "[Parallel(n_jobs=1)]: Done   2 out of   2 | elapsed:   51.7s remaining:    0.0s\n"
     ]
    },
    {
     "name": "stdout",
     "output_type": "stream",
     "text": [
      "[CV]  n_estimators=200, max_depth=10, learning_rate=1, score=-12.260, total=  25.7s\n",
      "[CV] n_estimators=1000, max_depth=5, learning_rate=0.1 ...............\n",
      "[06:54:20] WARNING: /workspace/src/objective/regression_obj.cu:152: reg:linear is now deprecated in favor of reg:squarederror.\n"
     ]
    },
    {
     "name": "stderr",
     "output_type": "stream",
     "text": [
      "[Parallel(n_jobs=1)]: Done   3 out of   3 | elapsed:  1.3min remaining:    0.0s\n"
     ]
    },
    {
     "name": "stdout",
     "output_type": "stream",
     "text": [
      "[CV]  n_estimators=1000, max_depth=5, learning_rate=0.1, score=-9.384, total=  54.1s\n",
      "[CV] n_estimators=1000, max_depth=5, learning_rate=0.1 ...............\n",
      "[06:55:14] WARNING: /workspace/src/objective/regression_obj.cu:152: reg:linear is now deprecated in favor of reg:squarederror.\n"
     ]
    },
    {
     "name": "stderr",
     "output_type": "stream",
     "text": [
      "[Parallel(n_jobs=1)]: Done   4 out of   4 | elapsed:  2.2min remaining:    0.0s\n"
     ]
    },
    {
     "name": "stdout",
     "output_type": "stream",
     "text": [
      "[CV]  n_estimators=1000, max_depth=5, learning_rate=0.1, score=-7.661, total=  55.5s\n",
      "[CV] n_estimators=1000, max_depth=5, learning_rate=0.1 ...............\n",
      "[06:56:09] WARNING: /workspace/src/objective/regression_obj.cu:152: reg:linear is now deprecated in favor of reg:squarederror.\n"
     ]
    },
    {
     "name": "stderr",
     "output_type": "stream",
     "text": [
      "[Parallel(n_jobs=1)]: Done   5 out of   5 | elapsed:  3.1min remaining:    0.0s\n"
     ]
    },
    {
     "name": "stdout",
     "output_type": "stream",
     "text": [
      "[CV]  n_estimators=1000, max_depth=5, learning_rate=0.1, score=-9.207, total=  55.0s\n",
      "[CV] n_estimators=200, max_depth=15, learning_rate=1 .................\n",
      "[06:57:04] WARNING: /workspace/src/objective/regression_obj.cu:152: reg:linear is now deprecated in favor of reg:squarederror.\n"
     ]
    },
    {
     "name": "stderr",
     "output_type": "stream",
     "text": [
      "[Parallel(n_jobs=1)]: Done   6 out of   6 | elapsed:  4.0min remaining:    0.0s\n"
     ]
    },
    {
     "name": "stdout",
     "output_type": "stream",
     "text": [
      "[CV]  n_estimators=200, max_depth=15, learning_rate=1, score=-13.210, total=  44.7s\n",
      "[CV] n_estimators=200, max_depth=15, learning_rate=1 .................\n",
      "[06:57:49] WARNING: /workspace/src/objective/regression_obj.cu:152: reg:linear is now deprecated in favor of reg:squarederror.\n"
     ]
    },
    {
     "name": "stderr",
     "output_type": "stream",
     "text": [
      "[Parallel(n_jobs=1)]: Done   7 out of   7 | elapsed:  4.8min remaining:    0.0s\n"
     ]
    },
    {
     "name": "stdout",
     "output_type": "stream",
     "text": [
      "[CV]  n_estimators=200, max_depth=15, learning_rate=1, score=-11.520, total=  45.4s\n",
      "[CV] n_estimators=200, max_depth=15, learning_rate=1 .................\n",
      "[06:58:34] WARNING: /workspace/src/objective/regression_obj.cu:152: reg:linear is now deprecated in favor of reg:squarederror.\n"
     ]
    },
    {
     "name": "stderr",
     "output_type": "stream",
     "text": [
      "[Parallel(n_jobs=1)]: Done   8 out of   8 | elapsed:  5.5min remaining:    0.0s\n"
     ]
    },
    {
     "name": "stdout",
     "output_type": "stream",
     "text": [
      "[CV]  n_estimators=200, max_depth=15, learning_rate=1, score=-12.466, total=  44.2s\n",
      "[CV] n_estimators=1000, max_depth=3, learning_rate=0.1 ...............\n",
      "[06:59:19] WARNING: /workspace/src/objective/regression_obj.cu:152: reg:linear is now deprecated in favor of reg:squarederror.\n"
     ]
    },
    {
     "name": "stderr",
     "output_type": "stream",
     "text": [
      "[Parallel(n_jobs=1)]: Done   9 out of   9 | elapsed:  6.3min remaining:    0.0s\n"
     ]
    },
    {
     "name": "stdout",
     "output_type": "stream",
     "text": [
      "[CV]  n_estimators=1000, max_depth=3, learning_rate=0.1, score=-9.296, total=  34.5s\n",
      "[CV] n_estimators=1000, max_depth=3, learning_rate=0.1 ...............\n",
      "[06:59:53] WARNING: /workspace/src/objective/regression_obj.cu:152: reg:linear is now deprecated in favor of reg:squarederror.\n",
      "[CV]  n_estimators=1000, max_depth=3, learning_rate=0.1, score=-7.618, total=  35.1s\n",
      "[CV] n_estimators=1000, max_depth=3, learning_rate=0.1 ...............\n",
      "[07:00:28] WARNING: /workspace/src/objective/regression_obj.cu:152: reg:linear is now deprecated in favor of reg:squarederror.\n",
      "[CV]  n_estimators=1000, max_depth=3, learning_rate=0.1, score=-9.163, total=  34.5s\n",
      "[CV] n_estimators=500, max_depth=30, learning_rate=1 .................\n",
      "[07:01:03] WARNING: /workspace/src/objective/regression_obj.cu:152: reg:linear is now deprecated in favor of reg:squarederror.\n",
      "[CV]  n_estimators=500, max_depth=30, learning_rate=1, score=-12.971, total=  22.6s\n",
      "[CV] n_estimators=500, max_depth=30, learning_rate=1 .................\n",
      "[07:01:25] WARNING: /workspace/src/objective/regression_obj.cu:152: reg:linear is now deprecated in favor of reg:squarederror.\n",
      "[CV]  n_estimators=500, max_depth=30, learning_rate=1, score=-10.845, total=  22.5s\n",
      "[CV] n_estimators=500, max_depth=30, learning_rate=1 .................\n",
      "[07:01:48] WARNING: /workspace/src/objective/regression_obj.cu:152: reg:linear is now deprecated in favor of reg:squarederror.\n",
      "[CV]  n_estimators=500, max_depth=30, learning_rate=1, score=-12.509, total=  24.0s\n",
      "[CV] n_estimators=200, max_depth=10, learning_rate=0.1 ...............\n",
      "[07:02:12] WARNING: /workspace/src/objective/regression_obj.cu:152: reg:linear is now deprecated in favor of reg:squarederror.\n",
      "[CV]  n_estimators=200, max_depth=10, learning_rate=0.1, score=-9.471, total=  24.3s\n",
      "[CV] n_estimators=200, max_depth=10, learning_rate=0.1 ...............\n",
      "[07:02:36] WARNING: /workspace/src/objective/regression_obj.cu:152: reg:linear is now deprecated in favor of reg:squarederror.\n",
      "[CV]  n_estimators=200, max_depth=10, learning_rate=0.1, score=-7.843, total=  25.2s\n",
      "[CV] n_estimators=200, max_depth=10, learning_rate=0.1 ...............\n",
      "[07:03:01] WARNING: /workspace/src/objective/regression_obj.cu:152: reg:linear is now deprecated in favor of reg:squarederror.\n",
      "[CV]  n_estimators=200, max_depth=10, learning_rate=0.1, score=-9.306, total=  24.6s\n",
      "[CV] n_estimators=100, max_depth=30, learning_rate=1 .................\n",
      "[07:03:26] WARNING: /workspace/src/objective/regression_obj.cu:152: reg:linear is now deprecated in favor of reg:squarederror.\n",
      "[CV]  n_estimators=100, max_depth=30, learning_rate=1, score=-12.971, total=  16.4s\n",
      "[CV] n_estimators=100, max_depth=30, learning_rate=1 .................\n",
      "[07:03:42] WARNING: /workspace/src/objective/regression_obj.cu:152: reg:linear is now deprecated in favor of reg:squarederror.\n",
      "[CV]  n_estimators=100, max_depth=30, learning_rate=1, score=-10.845, total=  16.3s\n",
      "[CV] n_estimators=100, max_depth=30, learning_rate=1 .................\n",
      "[07:03:59] WARNING: /workspace/src/objective/regression_obj.cu:152: reg:linear is now deprecated in favor of reg:squarederror.\n",
      "[CV]  n_estimators=100, max_depth=30, learning_rate=1, score=-12.509, total=  17.6s\n",
      "[CV] n_estimators=100, max_depth=10, learning_rate=0.01 ..............\n",
      "[07:04:16] WARNING: /workspace/src/objective/regression_obj.cu:152: reg:linear is now deprecated in favor of reg:squarederror.\n",
      "[CV]  n_estimators=100, max_depth=10, learning_rate=0.01, score=-24.290, total=  13.1s\n",
      "[CV] n_estimators=100, max_depth=10, learning_rate=0.01 ..............\n",
      "[07:04:29] WARNING: /workspace/src/objective/regression_obj.cu:152: reg:linear is now deprecated in favor of reg:squarederror.\n",
      "[CV]  n_estimators=100, max_depth=10, learning_rate=0.01, score=-21.091, total=  13.3s\n",
      "[CV] n_estimators=100, max_depth=10, learning_rate=0.01 ..............\n",
      "[07:04:43] WARNING: /workspace/src/objective/regression_obj.cu:152: reg:linear is now deprecated in favor of reg:squarederror.\n",
      "[CV]  n_estimators=100, max_depth=10, learning_rate=0.01, score=-23.913, total=  13.0s\n",
      "[CV] n_estimators=200, max_depth=30, learning_rate=0.1 ...............\n",
      "[07:04:56] WARNING: /workspace/src/objective/regression_obj.cu:152: reg:linear is now deprecated in favor of reg:squarederror.\n",
      "[CV]  n_estimators=200, max_depth=30, learning_rate=0.1, score=-10.220, total= 2.2min\n",
      "[CV] n_estimators=200, max_depth=30, learning_rate=0.1 ...............\n",
      "[07:07:06] WARNING: /workspace/src/objective/regression_obj.cu:152: reg:linear is now deprecated in favor of reg:squarederror.\n",
      "[CV]  n_estimators=200, max_depth=30, learning_rate=0.1, score=-8.612, total= 2.1min\n",
      "[CV] n_estimators=200, max_depth=30, learning_rate=0.1 ...............\n",
      "[07:09:15] WARNING: /workspace/src/objective/regression_obj.cu:152: reg:linear is now deprecated in favor of reg:squarederror.\n",
      "[CV]  n_estimators=200, max_depth=30, learning_rate=0.1, score=-10.070, total= 2.1min\n",
      "[CV] n_estimators=200, max_depth=5, learning_rate=0.1 ................\n",
      "[07:11:22] WARNING: /workspace/src/objective/regression_obj.cu:152: reg:linear is now deprecated in favor of reg:squarederror.\n",
      "[CV]  n_estimators=200, max_depth=5, learning_rate=0.1, score=-9.203, total=  11.0s\n",
      "[CV] n_estimators=200, max_depth=5, learning_rate=0.1 ................\n",
      "[07:11:33] WARNING: /workspace/src/objective/regression_obj.cu:152: reg:linear is now deprecated in favor of reg:squarederror.\n",
      "[CV]  n_estimators=200, max_depth=5, learning_rate=0.1, score=-7.540, total=  11.3s\n",
      "[CV] n_estimators=200, max_depth=5, learning_rate=0.1 ................\n",
      "[07:11:44] WARNING: /workspace/src/objective/regression_obj.cu:152: reg:linear is now deprecated in favor of reg:squarederror.\n",
      "[CV]  n_estimators=200, max_depth=5, learning_rate=0.1, score=-9.139, total=  11.2s\n",
      "[07:11:55] WARNING: /workspace/src/objective/regression_obj.cu:152: reg:linear is now deprecated in favor of reg:squarederror.\n"
     ]
    },
    {
     "name": "stderr",
     "output_type": "stream",
     "text": [
      "[Parallel(n_jobs=1)]: Done  30 out of  30 | elapsed: 18.9min finished\n"
     ]
    },
    {
     "data": {
      "text/plain": [
       "RandomizedSearchCV(cv='warn', error_score='raise-deprecating',\n",
       "                   estimator=XGBRegressor(base_score=0.5, booster='gbtree',\n",
       "                                          colsample_bylevel=1,\n",
       "                                          colsample_bynode=1,\n",
       "                                          colsample_bytree=1, gamma=0,\n",
       "                                          importance_type='gain',\n",
       "                                          learning_rate=0.1, max_delta_step=0,\n",
       "                                          max_depth=3, min_child_weight=1,\n",
       "                                          missing=None, n_estimators=1000,\n",
       "                                          n_jobs=1, nthread=-1,\n",
       "                                          objective='reg:linear',\n",
       "                                          rando...pha=0,\n",
       "                                          reg_lambda=1, scale_pos_weight=1,\n",
       "                                          seed=None, silent=None, subsample=1,\n",
       "                                          verbosity=1),\n",
       "                   iid='warn', n_iter=10, n_jobs=1,\n",
       "                   param_distributions={'learning_rate': [1, 0.1, 0.01],\n",
       "                                        'max_depth': [3, 5, 10, 15, 30],\n",
       "                                        'n_estimators': [100, 200, 500, 1000]},\n",
       "                   pre_dispatch='2*n_jobs', random_state=None, refit=True,\n",
       "                   return_train_score=False, scoring='neg_mean_absolute_error',\n",
       "                   verbose=10)"
      ]
     },
     "execution_count": 428,
     "metadata": {},
     "output_type": "execute_result"
    }
   ],
   "source": [
    "## Hyper Parameter tuning using random search\n",
    "from sklearn.model_selection import RandomizedSearchCV\n",
    "\n",
    "clf_xgb = xgb.XGBRegressor(learning_rate =0.1,n_estimators=1000,max_depth=3, nthread=-1)\n",
    "\n",
    "param={'max_depth':[3,5,10,15,30],\"n_estimators\":[100,200,500,1000],\"learning_rate\":[1,0.1,0.01]}\n",
    "\n",
    "rscv= RandomizedSearchCV(estimator = clf_xgb, param_distributions = param, scoring='neg_mean_absolute_error', n_jobs=1,verbose=10)\n",
    "rscv.fit(df_train, tsne_train_output)"
   ]
  },
  {
   "cell_type": "code",
   "execution_count": 430,
   "metadata": {},
   "outputs": [
    {
     "name": "stdout",
     "output_type": "stream",
     "text": [
      "Best Param:  {'n_estimators': 200, 'max_depth': 5, 'learning_rate': 0.1}\n",
      "\n",
      "Best Score:  8.627213474899476\n"
     ]
    }
   ],
   "source": [
    "print(\"Best Param: \",rscv.best_params_)\n",
    "print(\"\\nBest Score: \",-rscv.best_score_)"
   ]
  },
  {
   "cell_type": "code",
   "execution_count": 431,
   "metadata": {
    "colab": {},
    "colab_type": "code",
    "id": "nP3gp-0kpYV7",
    "outputId": "f87b350e-7419-4706-eb0e-ff01b298572c"
   },
   "outputs": [
    {
     "name": "stdout",
     "output_type": "stream",
     "text": [
      "[07:13:19] WARNING: /workspace/src/objective/regression_obj.cu:152: reg:linear is now deprecated in favor of reg:squarederror.\n",
      "Train MAPE :  0.13838850211637208\n",
      "Test MAPE :  0.13360181329858015\n"
     ]
    }
   ],
   "source": [
    "# Traninng with optimal Hyperparameter\n",
    "\n",
    "x_model = xgb.XGBRegressor(\n",
    " learning_rate =0.1,\n",
    " n_estimators=200,\n",
    " max_depth=5,\n",
    " min_child_weight=3,\n",
    " gamma=0,\n",
    " subsample=0.8,\n",
    " reg_alpha=200, reg_lambda=200,\n",
    " colsample_bytree=0.8,nthread=4)\n",
    "\n",
    "x_model.fit(df_train, tsne_train_output)\n",
    "\n",
    "#predicting with our trained Xg-Boost regressor\n",
    "# the models x_model is already hyper parameter tuned\n",
    "# the parameters that we got above are found using grid search\n",
    "\n",
    "y_pred = x_model.predict(df_test)\n",
    "xgb_test_predictions = [round(value) for value in y_pred]\n",
    "y_pred = x_model.predict(df_train)\n",
    "xgb_train_predictions = [round(value) for value in y_pred]\n",
    "\n",
    "\n",
    "print(\"Train MAPE : \",(mean_absolute_error(tsne_train_output, xgb_train_predictions))/(sum(tsne_train_output)/len(tsne_train_output)))\n",
    "print(\"Test MAPE : \",(mean_absolute_error(tsne_test_output, xgb_test_predictions))/(sum(tsne_test_output)/len(tsne_test_output)))"
   ]
  },
  {
   "cell_type": "code",
   "execution_count": 432,
   "metadata": {},
   "outputs": [
    {
     "data": {
      "text/plain": [
       "<Figure size 648x360 with 0 Axes>"
      ]
     },
     "metadata": {},
     "output_type": "display_data"
    },
    {
     "data": {
      "image/png": "[encoded data removed]",
      "text/plain": [
       "<Figure size 432x288 with 1 Axes>"
      ]
     },
     "metadata": {
      "needs_background": "light"
     },
     "output_type": "display_data"
    }
   ],
   "source": [
    "# Feature Importance of XGBoost Regressor\n",
    "from xgboost import plot_importance\n",
    "plt.figure(figsize=(9,5))\n",
    "plot_importance(x_model,height=0.3)\n",
    "plt.show()"
   ]
  },
  {
   "cell_type": "markdown",
   "metadata": {
    "colab_type": "text",
    "id": "HN_F4XI9pYWB"
   },
   "source": [
    "### Calculating the error metric values for various models"
   ]
  },
  {
   "cell_type": "code",
   "execution_count": 433,
   "metadata": {
    "colab": {},
    "colab_type": "code",
    "id": "wxWASeeEpYWB"
   },
   "outputs": [],
   "source": [
    "train_mape=[]\n",
    "test_mape=[]\n",
    "\n",
    "train_mape.append((mean_absolute_error(tsne_train_output,df_train['ft_1'].values))/(sum(tsne_train_output)/len(tsne_train_output)))\n",
    "train_mape.append((mean_absolute_error(tsne_train_output,df_train['exp_avg'].values))/(sum(tsne_train_output)/len(tsne_train_output)))\n",
    "train_mape.append((mean_absolute_error(tsne_train_output, lr_train_predictions))/(sum(tsne_train_output)/len(tsne_train_output)))\n",
    "train_mape.append((mean_absolute_error(tsne_train_output,rndf_train_predictions))/(sum(tsne_train_output)/len(tsne_train_output)))\n",
    "train_mape.append((mean_absolute_error(tsne_train_output, xgb_train_predictions))/(sum(tsne_train_output)/len(tsne_train_output)))\n",
    "\n",
    "\n",
    "test_mape.append((mean_absolute_error(tsne_test_output, df_test['ft_1'].values))/(sum(tsne_test_output)/len(tsne_test_output)))\n",
    "test_mape.append((mean_absolute_error(tsne_test_output, df_test['exp_avg'].values))/(sum(tsne_test_output)/len(tsne_test_output)))\n",
    "test_mape.append((mean_absolute_error(tsne_test_output, lr_test_predictions))/(sum(tsne_test_output)/len(tsne_test_output)))\n",
    "test_mape.append((mean_absolute_error(tsne_test_output, rndf_test_predictions))/(sum(tsne_test_output)/len(tsne_test_output)))\n",
    "test_mape.append((mean_absolute_error(tsne_test_output, xgb_test_predictions))/(sum(tsne_test_output)/len(tsne_test_output)))\n"
   ]
  },
  {
   "cell_type": "markdown",
   "metadata": {
    "colab_type": "text",
    "id": "dsWghvyVpYWE"
   },
   "source": [
    "### Error Metric Matrix"
   ]
  },
  {
   "cell_type": "code",
   "execution_count": 434,
   "metadata": {},
   "outputs": [
    {
     "name": "stdout",
     "output_type": "stream",
     "text": [
      "Error Metric Matrix (Tree Based Regression Methods) -  MAPE\n",
      "--------------------------------------------------------------------------------------------------------\n",
      "Baseline Model -                             Train:  0.14870666996426116       Test:  0.14225522601041551\n",
      "Exponential Averages Forecasting -           Train:  0.14121603560900353       Test:  0.13490049942819257\n",
      "Linear Regression -                         Train:  0.14219263664944806       Test:  0.1346818043304668\n",
      "Random Forest Regression -                   Train:  0.1368512323624647      Test:  0.1345528473427501\n",
      "XgBoost Regression -                         Train:  0.13838850211637208       Test:  0.13360181329858015\n",
      "--------------------------------------------------------------------------------------------------------\n"
     ]
    }
   ],
   "source": [
    "print (\"Error Metric Matrix (Tree Based Regression Methods) -  MAPE\")\n",
    "print (\"--------------------------------------------------------------------------------------------------------\")\n",
    "print (\"Baseline Model -                             Train: \",train_mape[0],\"      Test: \",test_mape[0])\n",
    "print (\"Exponential Averages Forecasting -           Train: \",train_mape[1],\"      Test: \",test_mape[1])\n",
    "print (\"Linear Regression -                         Train: \",train_mape[2],\"      Test: \",test_mape[2])\n",
    "print (\"Random Forest Regression -                   Train: \",train_mape[3],\"     Test: \",test_mape[3])\n",
    "print (\"XgBoost Regression -                         Train: \",train_mape[4],\"      Test: \",test_mape[4])\n",
    "print (\"--------------------------------------------------------------------------------------------------------\")"
   ]
  },
  {
   "cell_type": "markdown",
   "metadata": {},
   "source": [
    "## Task 3: Explore more time-series features using Google search/Quora/Stackoverflow to reduce the MAPE to < 12%"
   ]
  },
  {
   "cell_type": "markdown",
   "metadata": {},
   "source": [
    "### Reference\n",
    "\n",
    " https://www.youtube.com/watch?v=DUyZl-abnNM   -- Holt double exponential smooting\n",
    " \n",
    " https://www.youtube.com/watch?v=mrLiC1biciY     -- Holt  winter tripple exponential smooting\n",
    " \n",
    " https://grisha.org/blog/2016/01/29/triple-exponential-smoothing-forecasting/  --- Code reference\n",
    " \n",
    " https://grisha.org/blog/2016/02/16/triple-exponential-smoothing-forecasting-part-ii/  --- Code reference\n",
    " \n",
    " https://grisha.org/blog/2016/02/17/triple-exponential-smoothing-forecasting-part-iii/  --- Code reference\n",
    " \n",
    " https://medium.com/datadriveninvestor/how-to-build-exponential-smoothing-models-using-python-simple-exponential-smoothing-holt-and-da371189e1a1 "
   ]
  },
  {
   "cell_type": "markdown",
   "metadata": {},
   "source": [
    "\n"
   ]
  },
  {
   "cell_type": "markdown",
   "metadata": {},
   "source": [
    "###  3.1 Holt double exponential smoothing\n",
    "\n",
    "\n",
    " https://grisha.org/blog/2016/02/16/triple-exponential-smoothing-forecasting-part-ii/  --- Code reference"
   ]
  },
  {
   "cell_type": "code",
   "execution_count": 53,
   "metadata": {},
   "outputs": [],
   "source": [
    "# Holt double exponential averaging\n",
    "# given a series and alpha, return series of smoothed points\n",
    "def double_exponential_smoothing(series, alpha, beta):\n",
    "    result = [series[0]]\n",
    "    for n in range(1, len(series)+1):\n",
    "        if n == 1:\n",
    "            level, trend = series[0], series[1] - series[0]\n",
    "        if n >= len(series): # we are forecasting\n",
    "            value = result[-1]\n",
    "        else:\n",
    "            value = series[n]\n",
    "        last_level, level = level, alpha*value + (1-alpha)*(level+trend)\n",
    "        trend = beta*(level-last_level) + (1-beta)*trend\n",
    "        result.append(level+trend)\n",
    "    return result"
   ]
  },
  {
   "cell_type": "code",
   "execution_count": 54,
   "metadata": {},
   "outputs": [],
   "source": [
    "# hyperparameter tuning\n",
    "\n",
    "# removing top 5 values from each cluster for calculating MAPE and MSE\n",
    "cumulative_test = [ regions_cum[i][5:] for i in range(40) ]\n",
    "\n",
    "# Parameter initialisation\n",
    "alpha = [0.1, 0.2, 0.3, 0.4, 0.5]\n",
    "beta = [0.1, 0.12, 0.15, 0.20, 0.3]\n",
    "\n",
    "# Storing all the results\n",
    "result_double_exp = []\n",
    "\n",
    "for al in alpha:\n",
    "    for b in beta:\n",
    "        \n",
    "        double_exp_smooth_feat = []\n",
    "        for r in range(0,40):\n",
    "            smoothing_feat = double_exponential_smoothing(regions_cum[r][0:13104], alpha=al, beta=b)\n",
    "            double_exp_smooth_feat.append(smoothing_feat[6:])\n",
    "\n",
    "        # calculating MAPE\n",
    "        error = (sum(abs(np.subtract(np.array(cumulative_test).flatten(), np.array(double_exp_smooth_feat).flatten()))))/len(np.array(double_exp_smooth_feat).flatten())\n",
    "        y_ = sum(np.array(cumulative_test).flatten())/len(np.array(double_exp_smooth_feat).flatten())\n",
    "        mape_2_exp = error/y_\n",
    "        \n",
    "        # calculating MSE\n",
    "        mse_2_exp = sum((np.subtract(np.array(cumulative_test).flatten(), np.array(double_exp_smooth_feat).flatten()))**2.0) / len(np.array(double_exp_smooth_feat).flatten())\n",
    "\n",
    "        # Storing results\n",
    "        result_double_exp.append(([al, b],(mape_2_exp, mse_2_exp)))\n"
   ]
  },
  {
   "cell_type": "code",
   "execution_count": 55,
   "metadata": {},
   "outputs": [
    {
     "name": "stdout",
     "output_type": "stream",
     "text": [
      "Optimal_hyperparameter: \n",
      "\n",
      "_alpha  ,_beta                                    [0.4, 0.1]\n",
      "_MAPE   ,_MSE      (0.10268183636675085, 104.46471317931922)\n",
      "Name: 15, dtype: object\n"
     ]
    }
   ],
   "source": [
    "# Finding Optimal hyperparameter\n",
    "mape_res_2_exp=[]\n",
    "for i in range(len(result_double_exp)):\n",
    "    mape_res_2_exp.append(result_double_exp[i][1][0])\n",
    "    \n",
    "result_dataframe_2_exp = pd.DataFrame(result_double_exp, columns=[\"_alpha  ,_beta \",\"_MAPE   ,_MSE\"])\n",
    "print(\"Optimal_hyperparameter: \\n\")\n",
    "print(result_dataframe_2_exp.iloc[np.argmin(mape_res_2_exp)])\n"
   ]
  },
  {
   "cell_type": "code",
   "execution_count": 56,
   "metadata": {},
   "outputs": [],
   "source": [
    "alpha = 0.4\n",
    "beta = 0.1\n",
    "\n",
    "double_exp_smooth_feat = []\n",
    "\n",
    "for r in range(0,40):\n",
    "    smoothing_feat = double_exponential_smoothing(regions_cum[r][0:13104], alpha, beta)\n",
    "    double_exp_smooth_feat.append(smoothing_feat[6:])\n",
    "    \n",
    "# calculating MAPE\n",
    "error = (sum(abs(np.subtract(np.array(cumulative_test).flatten(), np.array(double_exp_smooth_feat).flatten()))))/len(np.array(double_exp_smooth_feat).flatten())\n",
    "y_ = sum(np.array(cumulative_test).flatten())/len(np.array(double_exp_smooth_feat).flatten())\n",
    "mape_2_exp = error/y_\n",
    "\n",
    "# calculating MSE\n",
    "mse_2_exp = sum((np.subtract(np.array(cumulative_test).flatten(), np.array(double_exp_smooth_feat).flatten()))**2.0) / len(np.array(double_exp_smooth_feat).flatten())\n"
   ]
  },
  {
   "cell_type": "code",
   "execution_count": 57,
   "metadata": {},
   "outputs": [
    {
     "data": {
      "image/png": "[encoded data removed]",
      "text/plain": [
       "<Figure size 1152x360 with 1 Axes>"
      ]
     },
     "metadata": {
      "needs_background": "light"
     },
     "output_type": "display_data"
    }
   ],
   "source": [
    "i=2\n",
    "plt.figure(figsize=(16,5))\n",
    "# traning plot for cluste 'i'\n",
    "plt.plot(np.arange(len(cumulative_test[i])), (cumulative_test[i]), label='actual values')\n",
    "plt.plot(np.arange(len(double_exp_smooth_feat[i])), double_exp_smooth_feat[i], label='Holt_exp_smooting')\n",
    "plt.title(f\"Example of Holt double exponential smooting: cluster {i}\")\n",
    "plt.legend(loc='best')\n",
    "plt.show()\n"
   ]
  },
  {
   "cell_type": "markdown",
   "metadata": {},
   "source": [
    "\n"
   ]
  },
  {
   "cell_type": "markdown",
   "metadata": {},
   "source": [
    "\n",
    "\n"
   ]
  },
  {
   "cell_type": "markdown",
   "metadata": {},
   "source": [
    "### 3.2 Holt-Winter tripple exponential averaging\n",
    "\n",
    "\n",
    " https://grisha.org/blog/2016/02/17/triple-exponential-smoothing-forecasting-part-iii/  --- Code reference"
   ]
  },
  {
   "cell_type": "code",
   "execution_count": 58,
   "metadata": {},
   "outputs": [],
   "source": [
    "# Holt-Winter tripple exponential\n",
    "\n",
    "def initial_trend(series, slen):\n",
    "    sum = 0.0\n",
    "    for i in range(slen):\n",
    "        sum += float(series[i+slen] - series[i]) / slen\n",
    "    return sum / slen\n",
    "\n",
    "def initial_seasonal_components(series, slen):\n",
    "    seasonals = {}\n",
    "    season_averages = []\n",
    "    n_seasons = int(len(series)/slen)\n",
    "    # compute season averages\n",
    "    for j in range(n_seasons):\n",
    "        season_averages.append(sum(series[slen*j:slen*j+slen])/float(slen))\n",
    "    # compute initial values\n",
    "    for i in range(slen):\n",
    "        sum_of_vals_over_avg = 0.0\n",
    "        for j in range(n_seasons):\n",
    "            sum_of_vals_over_avg += series[slen*j+i]-season_averages[j]\n",
    "        seasonals[i] = sum_of_vals_over_avg/n_seasons\n",
    "    return seasonals\n",
    "\n",
    "\n",
    "def triple_exponential_smoothing(series, slen, alpha, beta, gamma, n_preds):\n",
    "    result = []\n",
    "    seasonals = initial_seasonal_components(series, slen)\n",
    "    for i in range(len(series)+n_preds):\n",
    "        if i == 0: # initial values\n",
    "            smooth = series[0]\n",
    "            trend = initial_trend(series, slen)\n",
    "            result.append(series[0])\n",
    "            continue\n",
    "        if i >= len(series): # we are forecasting\n",
    "            m = i - len(series) + 1\n",
    "            result.append((smooth + m*trend) + seasonals[i%slen])\n",
    "        else:\n",
    "            val = series[i]\n",
    "            last_smooth, smooth = smooth, alpha*(val-seasonals[i%slen]) + (1-alpha)*(smooth+trend)\n",
    "            trend = beta * (smooth-last_smooth) + (1-beta)*trend\n",
    "            seasonals[i%slen] = gamma*(val-smooth) + (1-gamma)*seasonals[i%slen]\n",
    "            result.append(smooth+trend+seasonals[i%slen])\n",
    "    return result"
   ]
  },
  {
   "cell_type": "code",
   "execution_count": 59,
   "metadata": {},
   "outputs": [],
   "source": [
    "# hyperparameter tuning\n",
    "\n",
    "# removing top 5 values from each cluster for calculating MAPE and MSE\n",
    "cumulative_test = [ regions_cum[i][5:] for i in range(40) ]\n",
    "\n",
    "# Parameter initialisation\n",
    "alpha = [0.1, 0.2, 0.3, 0.4, 0.5]\n",
    "beta = [0.1, 0.12, 0.15, 0.20, 0.3]\n",
    "gamma = [0.1,0.2,0.3,0.4]\n",
    "season_len = [10,20,25]\n",
    "\n",
    "# Storing all the results\n",
    "result = []\n",
    "\n",
    "for al in alpha:\n",
    "    for b in beta:\n",
    "        for g in gamma:\n",
    "            for season in season_len:\n",
    "\n",
    "                holt_winter_3_exp_smooth_feat = []\n",
    "                \n",
    "                # Holt winter feature for each cluster wise\n",
    "                for r in range(0,40):\n",
    "                    holt_wint_exp = triple_exponential_smoothing(regions_cum[r][0:13104], season, al, b, g, 0)\n",
    "                    holt_winter_3_exp_smooth_feat.append(holt_wint_exp[5:])\n",
    "\n",
    "                # calculating MAPE\n",
    "                error = (sum(abs(np.subtract(np.array(cumulative_test).flatten(), np.array(holt_winter_3_exp_smooth_feat).flatten()))))/len(np.array(holt_winter_3_exp_smooth_feat).flatten())\n",
    "                y_ = sum(np.array(cumulative_test).flatten())/len(np.array(holt_winter_3_exp_smooth_feat).flatten())\n",
    "                mape_3_exp = error/y_\n",
    "\n",
    "                # calculating MSE\n",
    "                mse_3_exp = sum((np.subtract(np.array(cumulative_test).flatten(), np.array(holt_winter_3_exp_smooth_feat).flatten()))**2.0) / len(np.array(holt_winter_3_exp_smooth_feat).flatten())\n",
    "                    \n",
    "                # Storing results\n",
    "                result.append(([al, b, g, season],(mape_3_exp, mse_3_exp)))\n"
   ]
  },
  {
   "cell_type": "code",
   "execution_count": 60,
   "metadata": {},
   "outputs": [
    {
     "name": "stdout",
     "output_type": "stream",
     "text": [
      "Optimal_hyperparameter: \n",
      "\n",
      "_alpha  ,_beta  ,_gamma  ,_season_len                          [0.5, 0.1, 0.4, 10]\n",
      "_MAPE   ,_MSE                            (0.05073852849780103, 24.983657477980596)\n",
      "Name: 249, dtype: object\n"
     ]
    }
   ],
   "source": [
    "# Finding Optimal hyperparameter\n",
    "mape_res=[]\n",
    "for i in range(len(result)):\n",
    "    mape_res.append(result[i][1][0])\n",
    "    \n",
    "result_dataframe = pd.DataFrame(result, columns=[\"_alpha  ,_beta  ,_gamma  ,_season_len\",\"_MAPE   ,_MSE\"])\n",
    "print(\"Optimal_hyperparameter: \\n\")\n",
    "print(result_dataframe.iloc[np.argmin(mape_res)])"
   ]
  },
  {
   "cell_type": "code",
   "execution_count": 61,
   "metadata": {},
   "outputs": [],
   "source": [
    "# Using Optimal hyperparameter for holt-winter feature transform\n",
    "alpha = 0.5\n",
    "beta = 0.1\n",
    "gamma = 0.4\n",
    "season_len = 10\n",
    "\n",
    "\n",
    "holt_winter_3_exp_smooth_feat = []\n",
    "\n",
    "for r in range(0,40):\n",
    "    holt_wint_exp = triple_exponential_smoothing(regions_cum[r][0:13104], season_len, alpha, beta, gamma, 0)\n",
    "    holt_winter_3_exp_smooth_feat.append(holt_wint_exp[5:])\n",
    "    \n",
    "# calculating MAPE\n",
    "error = (sum(abs(np.subtract(np.array(cumulative_test).flatten(), np.array(holt_winter_3_exp_smooth_feat).flatten()))))/len(np.array(holt_winter_3_exp_smooth_feat).flatten())\n",
    "y_ = sum(np.array(cumulative_test).flatten())/len(np.array(holt_winter_3_exp_smooth_feat).flatten())\n",
    "mape_3_exp = error/y_\n",
    "\n",
    "# calculating MSE\n",
    "mse_3_exp = sum((np.subtract(np.array(cumulative_test).flatten(), np.array(holt_winter_3_exp_smooth_feat).flatten()))**2.0) / len(np.array(holt_winter_3_exp_smooth_feat).flatten())\n"
   ]
  },
  {
   "cell_type": "code",
   "execution_count": 62,
   "metadata": {},
   "outputs": [
    {
     "data": {
      "image/png": "[encoded data removed]",
      "text/plain": [
       "<Figure size 1152x360 with 1 Axes>"
      ]
     },
     "metadata": {
      "needs_background": "light"
     },
     "output_type": "display_data"
    }
   ],
   "source": [
    "i=2\n",
    "plt.figure(figsize=(16,5))\n",
    "# traning plot for cluste 'i'\n",
    "plt.plot(np.arange(len(cumulative_test[i])), (cumulative_test[i]), label='actual values')\n",
    "plt.plot(np.arange(len(holt_winter_3_exp_smooth_feat[i])), holt_winter_3_exp_smooth_feat[i], label='Holt_3_exp_smooting')\n",
    "plt.title(f\"Example of Holt Winter Tripple exponential smooting: cluster {i}\")\n",
    "plt.legend(loc='best')\n",
    "plt.show()\n"
   ]
  },
  {
   "cell_type": "code",
   "execution_count": 63,
   "metadata": {},
   "outputs": [
    {
     "name": "stdout",
     "output_type": "stream",
     "text": [
      "Error Metric Matrix (Forecasting Methods) - MAPE & MSE\n",
      "--------------------------------------------------------------------------------------------------------\n",
      "holt-winter tripple exponential Averages (Values) -      MAPE:  0.05073852849780103       MSE:  24.983657477980596\n",
      "holt double exponential Averages (Values) -              MAPE:  0.10268183636675085        MSE:  104.46471317931922\n"
     ]
    }
   ],
   "source": [
    "print (\"Error Metric Matrix (Forecasting Methods) - MAPE & MSE\")\n",
    "print (\"--------------------------------------------------------------------------------------------------------\")\n",
    "print (\"holt-winter tripple exponential Averages (Values) -      MAPE: \",mape_3_exp,\"      MSE: \",mse_3_exp)\n",
    "print (\"holt double exponential Averages (Values) -              MAPE: \",mape_2_exp,\"       MSE: \",mse_2_exp)"
   ]
  },
  {
   "cell_type": "markdown",
   "metadata": {},
   "source": [
    "### 3.3 Train Test Split of Additional feature"
   ]
  },
  {
   "cell_type": "code",
   "execution_count": 64,
   "metadata": {},
   "outputs": [],
   "source": [
    "# Train Test Split of Holt Double Exponential Averages\n",
    "train_holt_2_exp_smooth_feat = [(double_exp_smooth_feat)[i][:9169] for i in range(40)] \n",
    "test_holt_2_exp_smooth_feat = [(double_exp_smooth_feat)[i][9169:] for i in range(40)] \n",
    "\n",
    "# 'holtz double exponential' \n",
    "# the above contains values in the form of list of lists (i.e. list of values of each region), here we make all of them in one list for 'holtz double exponential' feture\n",
    "train_new_holt_2_exp_features = []\n",
    "for i in range(0,40):\n",
    "    train_new_holt_2_exp_features.extend(train_holt_2_exp_smooth_feat[i])\n",
    "test_new_holt_2_exp_features = []\n",
    "for i in range(0,40):\n",
    "    test_new_holt_2_exp_features.extend(test_holt_2_exp_smooth_feat[i])\n",
    " "
   ]
  },
  {
   "cell_type": "code",
   "execution_count": 65,
   "metadata": {},
   "outputs": [],
   "source": [
    "# train and test split of holtz winter tripple exponential feature\n",
    "train_holt_winter_3_exp = [(holt_winter_3_exp_smooth_feat)[i][:9169] for i in range(40)]                    \n",
    "test_holt_winter_3_exp = [(holt_winter_3_exp_smooth_feat)[i][9169:] for i in range(40)] \n",
    "\n",
    "#holtz winter 3  exponential\n",
    "# the above contains values in the form of list of lists (i.e. list of values of each region), here we make all of them in one list for 'holtz winter exponential' feture\n",
    "train_new_holtz_wint_3_exp_features = []\n",
    "for i in range(0,40):\n",
    "    train_new_holtz_wint_3_exp_features.extend(train_holt_winter_3_exp[i])\n",
    "test_new_holtz_wint_3_exp_features = []\n",
    "for i in range(0,40):\n",
    "    test_new_holtz_wint_3_exp_features.extend(test_holt_winter_3_exp[i])\n"
   ]
  },
  {
   "cell_type": "code",
   "execution_count": 66,
   "metadata": {},
   "outputs": [
    {
     "name": "stdout",
     "output_type": "stream",
     "text": [
      "Train dataframe shape:  (366760, 21)\n",
      "Test dataframe shape:  (157200, 21)\n"
     ]
    },
    {
     "data": {
      "text/html": [
       "<div>\n",
       "<style scoped>\n",
       "    .dataframe tbody tr th:only-of-type {\n",
       "        vertical-align: middle;\n",
       "    }\n",
       "\n",
       "    .dataframe tbody tr th {\n",
       "        vertical-align: top;\n",
       "    }\n",
       "\n",
       "    .dataframe thead th {\n",
       "        text-align: right;\n",
       "    }\n",
       "</style>\n",
       "<table border=\"1\" class=\"dataframe\">\n",
       "  <thead>\n",
       "    <tr style=\"text-align: right;\">\n",
       "      <th></th>\n",
       "      <th>ft_5</th>\n",
       "      <th>ft_4</th>\n",
       "      <th>ft_3</th>\n",
       "      <th>ft_2</th>\n",
       "      <th>ft_1</th>\n",
       "      <th>amp1</th>\n",
       "      <th>amp2</th>\n",
       "      <th>amp3</th>\n",
       "      <th>amp4</th>\n",
       "      <th>amp5</th>\n",
       "      <th>...</th>\n",
       "      <th>freq2</th>\n",
       "      <th>freq3</th>\n",
       "      <th>freq4</th>\n",
       "      <th>freq5</th>\n",
       "      <th>lat</th>\n",
       "      <th>lon</th>\n",
       "      <th>weekday</th>\n",
       "      <th>exp_avg</th>\n",
       "      <th>holt_2exp_feature</th>\n",
       "      <th>holt_winter_3exp_feature</th>\n",
       "    </tr>\n",
       "  </thead>\n",
       "  <tbody>\n",
       "    <tr>\n",
       "      <td>0</td>\n",
       "      <td>143.0</td>\n",
       "      <td>145.0</td>\n",
       "      <td>119.0</td>\n",
       "      <td>113.0</td>\n",
       "      <td>124.0</td>\n",
       "      <td>387761.0</td>\n",
       "      <td>91160.781939</td>\n",
       "      <td>91160.781939</td>\n",
       "      <td>17509.351171</td>\n",
       "      <td>17509.351171</td>\n",
       "      <td>...</td>\n",
       "      <td>0.499521</td>\n",
       "      <td>0.499282</td>\n",
       "      <td>0.499042</td>\n",
       "      <td>0.498803</td>\n",
       "      <td>40.776228</td>\n",
       "      <td>-73.982119</td>\n",
       "      <td>4</td>\n",
       "      <td>121</td>\n",
       "      <td>126.315098</td>\n",
       "      <td>121.378441</td>\n",
       "    </tr>\n",
       "    <tr>\n",
       "      <td>1</td>\n",
       "      <td>145.0</td>\n",
       "      <td>119.0</td>\n",
       "      <td>113.0</td>\n",
       "      <td>124.0</td>\n",
       "      <td>121.0</td>\n",
       "      <td>387761.0</td>\n",
       "      <td>91160.781939</td>\n",
       "      <td>91160.781939</td>\n",
       "      <td>17509.351171</td>\n",
       "      <td>17509.351171</td>\n",
       "      <td>...</td>\n",
       "      <td>0.499521</td>\n",
       "      <td>0.499282</td>\n",
       "      <td>0.499042</td>\n",
       "      <td>0.498803</td>\n",
       "      <td>40.776228</td>\n",
       "      <td>-73.982119</td>\n",
       "      <td>4</td>\n",
       "      <td>120</td>\n",
       "      <td>119.462679</td>\n",
       "      <td>129.417436</td>\n",
       "    </tr>\n",
       "    <tr>\n",
       "      <td>2</td>\n",
       "      <td>119.0</td>\n",
       "      <td>113.0</td>\n",
       "      <td>124.0</td>\n",
       "      <td>121.0</td>\n",
       "      <td>131.0</td>\n",
       "      <td>387761.0</td>\n",
       "      <td>91160.781939</td>\n",
       "      <td>91160.781939</td>\n",
       "      <td>17509.351171</td>\n",
       "      <td>17509.351171</td>\n",
       "      <td>...</td>\n",
       "      <td>0.499521</td>\n",
       "      <td>0.499282</td>\n",
       "      <td>0.499042</td>\n",
       "      <td>0.498803</td>\n",
       "      <td>40.776228</td>\n",
       "      <td>-73.982119</td>\n",
       "      <td>4</td>\n",
       "      <td>127</td>\n",
       "      <td>117.612721</td>\n",
       "      <td>114.301626</td>\n",
       "    </tr>\n",
       "    <tr>\n",
       "      <td>3</td>\n",
       "      <td>113.0</td>\n",
       "      <td>124.0</td>\n",
       "      <td>121.0</td>\n",
       "      <td>131.0</td>\n",
       "      <td>110.0</td>\n",
       "      <td>387761.0</td>\n",
       "      <td>91160.781939</td>\n",
       "      <td>91160.781939</td>\n",
       "      <td>17509.351171</td>\n",
       "      <td>17509.351171</td>\n",
       "      <td>...</td>\n",
       "      <td>0.499521</td>\n",
       "      <td>0.499282</td>\n",
       "      <td>0.499042</td>\n",
       "      <td>0.498803</td>\n",
       "      <td>40.776228</td>\n",
       "      <td>-73.982119</td>\n",
       "      <td>4</td>\n",
       "      <td>115</td>\n",
       "      <td>126.998237</td>\n",
       "      <td>116.252595</td>\n",
       "    </tr>\n",
       "    <tr>\n",
       "      <td>4</td>\n",
       "      <td>124.0</td>\n",
       "      <td>121.0</td>\n",
       "      <td>131.0</td>\n",
       "      <td>110.0</td>\n",
       "      <td>116.0</td>\n",
       "      <td>387761.0</td>\n",
       "      <td>91160.781939</td>\n",
       "      <td>91160.781939</td>\n",
       "      <td>17509.351171</td>\n",
       "      <td>17509.351171</td>\n",
       "      <td>...</td>\n",
       "      <td>0.499521</td>\n",
       "      <td>0.499282</td>\n",
       "      <td>0.499042</td>\n",
       "      <td>0.498803</td>\n",
       "      <td>40.776228</td>\n",
       "      <td>-73.982119</td>\n",
       "      <td>4</td>\n",
       "      <td>115</td>\n",
       "      <td>127.429617</td>\n",
       "      <td>135.451284</td>\n",
       "    </tr>\n",
       "  </tbody>\n",
       "</table>\n",
       "<p>5 rows × 21 columns</p>\n",
       "</div>"
      ],
      "text/plain": [
       "    ft_5   ft_4   ft_3   ft_2   ft_1      amp1          amp2          amp3  \\\n",
       "0  143.0  145.0  119.0  113.0  124.0  387761.0  91160.781939  91160.781939   \n",
       "1  145.0  119.0  113.0  124.0  121.0  387761.0  91160.781939  91160.781939   \n",
       "2  119.0  113.0  124.0  121.0  131.0  387761.0  91160.781939  91160.781939   \n",
       "3  113.0  124.0  121.0  131.0  110.0  387761.0  91160.781939  91160.781939   \n",
       "4  124.0  121.0  131.0  110.0  116.0  387761.0  91160.781939  91160.781939   \n",
       "\n",
       "           amp4          amp5  ...     freq2     freq3     freq4     freq5  \\\n",
       "0  17509.351171  17509.351171  ...  0.499521  0.499282  0.499042  0.498803   \n",
       "1  17509.351171  17509.351171  ...  0.499521  0.499282  0.499042  0.498803   \n",
       "2  17509.351171  17509.351171  ...  0.499521  0.499282  0.499042  0.498803   \n",
       "3  17509.351171  17509.351171  ...  0.499521  0.499282  0.499042  0.498803   \n",
       "4  17509.351171  17509.351171  ...  0.499521  0.499282  0.499042  0.498803   \n",
       "\n",
       "         lat        lon  weekday  exp_avg  holt_2exp_feature  \\\n",
       "0  40.776228 -73.982119        4      121         126.315098   \n",
       "1  40.776228 -73.982119        4      120         119.462679   \n",
       "2  40.776228 -73.982119        4      127         117.612721   \n",
       "3  40.776228 -73.982119        4      115         126.998237   \n",
       "4  40.776228 -73.982119        4      115         127.429617   \n",
       "\n",
       "   holt_winter_3exp_feature  \n",
       "0                121.378441  \n",
       "1                129.417436  \n",
       "2                114.301626  \n",
       "3                116.252595  \n",
       "4                135.451284  \n",
       "\n",
       "[5 rows x 21 columns]"
      ]
     },
     "execution_count": 66,
     "metadata": {},
     "output_type": "execute_result"
    }
   ],
   "source": [
    "# Adding additional feature into dataframe    \n",
    "df_train['holt_2exp_feature'] = train_new_holt_2_exp_features\n",
    "df_train['holt_winter_3exp_feature'] = train_new_holtz_wint_3_exp_features\n",
    "print(\"Train dataframe shape: \",df_train.shape)\n",
    "\n",
    "df_test['holt_2exp_feature'] = test_new_holt_2_exp_features\n",
    "df_test['holt_winter_3exp_feature'] = test_new_holtz_wint_3_exp_features\n",
    "print(\"Test dataframe shape: \",df_test.shape)\n",
    "df_test.head()"
   ]
  },
  {
   "cell_type": "markdown",
   "metadata": {},
   "source": [
    "## 3.4 Modeling: After adding additional feature "
   ]
  },
  {
   "cell_type": "markdown",
   "metadata": {
    "colab_type": "text",
    "id": "rykiaxYlpYVz"
   },
   "source": [
    "### Using Linear Regression"
   ]
  },
  {
   "cell_type": "code",
   "execution_count": 67,
   "metadata": {},
   "outputs": [
    {
     "name": "stdout",
     "output_type": "stream",
     "text": [
      "Fitting 3 folds for each of 5 candidates, totalling 15 fits\n"
     ]
    },
    {
     "name": "stderr",
     "output_type": "stream",
     "text": [
      "[Parallel(n_jobs=-1)]: Using backend LokyBackend with 8 concurrent workers.\n",
      "[Parallel(n_jobs=-1)]: Done   2 out of  15 | elapsed:   23.2s remaining:  2.5min\n",
      "[Parallel(n_jobs=-1)]: Done   4 out of  15 | elapsed:   32.9s remaining:  1.5min\n",
      "[Parallel(n_jobs=-1)]: Done   6 out of  15 | elapsed:   42.8s remaining:  1.1min\n",
      "[Parallel(n_jobs=-1)]: Done   8 out of  15 | elapsed:   52.3s remaining:   45.8s\n",
      "[Parallel(n_jobs=-1)]: Done  10 out of  15 | elapsed:   58.1s remaining:   29.1s\n",
      "[Parallel(n_jobs=-1)]: Done  12 out of  15 | elapsed:  1.1min remaining:   16.0s\n",
      "[Parallel(n_jobs=-1)]: Done  15 out of  15 | elapsed:  1.3min finished\n"
     ]
    },
    {
     "data": {
      "text/plain": [
       "GridSearchCV(cv='warn', error_score='raise-deprecating',\n",
       "             estimator=Lasso(alpha=1.0, copy_X=True, fit_intercept=True,\n",
       "                             max_iter=1000, normalize=False, positive=False,\n",
       "                             precompute=False, random_state=None,\n",
       "                             selection='cyclic', tol=0.0001, warm_start=False),\n",
       "             iid='warn', n_jobs=-1,\n",
       "             param_grid={'alpha': [0.001, 0.01, 0.1, 1, 10]},\n",
       "             pre_dispatch='2*n_jobs', refit=True, return_train_score=False,\n",
       "             scoring='neg_mean_absolute_error', verbose=10)"
      ]
     },
     "execution_count": 67,
     "metadata": {},
     "output_type": "execute_result"
    }
   ],
   "source": [
    "## Hyper Parameter tuning\n",
    "from sklearn.model_selection import GridSearchCV\n",
    "from sklearn.linear_model import Lasso\n",
    "\n",
    "clf_lin_reg = Lasso(alpha=1.0)\n",
    "\n",
    "param={'alpha':[0.001,0.01,0.1,1,10]}\n",
    "gscv=GridSearchCV(estimator=clf_lin_reg, param_grid = param, scoring='neg_mean_absolute_error', n_jobs=-1,verbose=10)\n",
    "gscv.fit(df_train, tsne_train_output)"
   ]
  },
  {
   "cell_type": "code",
   "execution_count": 68,
   "metadata": {},
   "outputs": [
    {
     "name": "stdout",
     "output_type": "stream",
     "text": [
      "Best Param:  {'alpha': 0.1}\n",
      "\n",
      "Best Score:  2.3855348430384375\n"
     ]
    }
   ],
   "source": [
    "print(\"Best Param: \",gscv.best_params_)\n",
    "print(\"\\nBest Score: \",-gscv.best_score_)"
   ]
  },
  {
   "cell_type": "code",
   "execution_count": 64,
   "metadata": {
    "colab": {},
    "colab_type": "code",
    "id": "a4-FX3CdpYV0"
   },
   "outputs": [
    {
     "name": "stdout",
     "output_type": "stream",
     "text": [
      "Train MAPE :  0.0387738969024487\n",
      "Test MAPE :  0.03493433401929968\n"
     ]
    }
   ],
   "source": [
    "# Traning Using Optimal Parameter\n",
    "from sklearn.linear_model import Lasso\n",
    "lr_reg=Lasso(alpha=0.1).fit(df_train, tsne_train_output)\n",
    "\n",
    "y_pred = lr_reg.predict(df_test)\n",
    "lr_test_predictions = [round(value) for value in y_pred]\n",
    "y_pred = lr_reg.predict(df_train)\n",
    "lr_train_predictions = [round(value) for value in y_pred]\n",
    "\n",
    "print(\"Train MAPE : \",(mean_absolute_error(tsne_train_output, lr_train_predictions))/(sum(tsne_train_output)/len(tsne_train_output)))\n",
    "print(\"Test MAPE : \",(mean_absolute_error(tsne_test_output, lr_test_predictions))/(sum(tsne_test_output)/len(tsne_test_output)))"
   ]
  },
  {
   "cell_type": "markdown",
   "metadata": {
    "colab_type": "text",
    "id": "CbdQSLMipYV1"
   },
   "source": [
    "### Using Random Forest Regressor"
   ]
  },
  {
   "cell_type": "code",
   "execution_count": 70,
   "metadata": {},
   "outputs": [
    {
     "name": "stdout",
     "output_type": "stream",
     "text": [
      "Fitting 3 folds for each of 10 candidates, totalling 30 fits\n"
     ]
    },
    {
     "name": "stderr",
     "output_type": "stream",
     "text": [
      "[Parallel(n_jobs=-1)]: Using backend LokyBackend with 8 concurrent workers.\n",
      "[Parallel(n_jobs=-1)]: Done   2 tasks      | elapsed:   25.0s\n",
      "[Parallel(n_jobs=-1)]: Done   9 tasks      | elapsed:  4.0min\n",
      "[Parallel(n_jobs=-1)]: Done  19 out of  30 | elapsed:  6.4min remaining:  3.7min\n",
      "[Parallel(n_jobs=-1)]: Done  23 out of  30 | elapsed:  6.8min remaining:  2.1min\n",
      "[Parallel(n_jobs=-1)]: Done  27 out of  30 | elapsed:  7.3min remaining:   48.4s\n",
      "[Parallel(n_jobs=-1)]: Done  30 out of  30 | elapsed:  7.6min finished\n"
     ]
    },
    {
     "data": {
      "text/plain": [
       "RandomizedSearchCV(cv='warn', error_score='raise-deprecating',\n",
       "                   estimator=RandomForestRegressor(bootstrap=True,\n",
       "                                                   criterion='mse',\n",
       "                                                   max_depth=None,\n",
       "                                                   max_features='sqrt',\n",
       "                                                   max_leaf_nodes=None,\n",
       "                                                   min_impurity_decrease=0.0,\n",
       "                                                   min_impurity_split=None,\n",
       "                                                   min_samples_leaf=1,\n",
       "                                                   min_samples_split=2,\n",
       "                                                   min_weight_fraction_leaf=0.0,\n",
       "                                                   n_estimators=40, n_jobs=-1,\n",
       "                                                   oob_score=False,\n",
       "                                                   random_state=None, verbose=0,\n",
       "                                                   warm_start=False),\n",
       "                   iid='warn', n_iter=10, n_jobs=-1,\n",
       "                   param_distributions={'max_depth': [3, 5, 10, 15, 30],\n",
       "                                        'n_estimators': [20, 50, 100, 200,\n",
       "                                                         500]},\n",
       "                   pre_dispatch='2*n_jobs', random_state=None, refit=True,\n",
       "                   return_train_score=False, scoring='neg_mean_absolute_error',\n",
       "                   verbose=10)"
      ]
     },
     "execution_count": 70,
     "metadata": {},
     "output_type": "execute_result"
    }
   ],
   "source": [
    "## Hyper Parameter tuning using random search\n",
    "from sklearn.model_selection import RandomizedSearchCV\n",
    "\n",
    "clf_rf = RandomForestRegressor(max_features='sqrt',max_depth=None, n_estimators=40, n_jobs=-1)\n",
    "param={'max_depth':[3,5,10,15,30],\"n_estimators\":[20,50,100,200,500]}\n",
    "\n",
    "rscv= RandomizedSearchCV(estimator = clf_rf, param_distributions = param, scoring='neg_mean_absolute_error', n_jobs=-1,verbose=10)\n",
    "rscv.fit(df_train, tsne_train_output)"
   ]
  },
  {
   "cell_type": "code",
   "execution_count": 71,
   "metadata": {},
   "outputs": [
    {
     "name": "stdout",
     "output_type": "stream",
     "text": [
      "Best Param:  {'n_estimators': 500, 'max_depth': 30}\n",
      "\n",
      "Best Score:  2.6191153166237626\n"
     ]
    }
   ],
   "source": [
    "print(\"Best Param: \",rscv.best_params_)\n",
    "print(\"\\nBest Score: \",-rscv.best_score_)"
   ]
  },
  {
   "cell_type": "code",
   "execution_count": 65,
   "metadata": {},
   "outputs": [
    {
     "name": "stdout",
     "output_type": "stream",
     "text": [
      "Train MAPE :  0.013369995703600486\n",
      "Test MAPE :  0.037977358077754604\n"
     ]
    }
   ],
   "source": [
    "#Traning Using Optimal Hyperparameter\n",
    "regr1 = RandomForestRegressor(max_features='sqrt',max_depth=30, n_estimators=500, n_jobs=-1)\n",
    "regr1.fit(df_train, tsne_train_output)\n",
    "\n",
    "# Predicting on test data using our trained random forest model \n",
    "\n",
    "# the models regr1 is already hyper parameter tuned\n",
    "# the parameters that we got above are found using grid search\n",
    "y_pred = regr1.predict(df_test)\n",
    "rndf_test_predictions = [round(value) for value in y_pred]\n",
    "y_pred = regr1.predict(df_train)\n",
    "rndf_train_predictions = [round(value) for value in y_pred]\n",
    "\n",
    "\n",
    "print(\"Train MAPE : \",(mean_absolute_error(tsne_train_output, rndf_train_predictions))/(sum(tsne_train_output)/len(tsne_train_output)))\n",
    "print(\"Test MAPE : \",(mean_absolute_error(tsne_test_output, rndf_test_predictions))/(sum(tsne_test_output)/len(tsne_test_output)))"
   ]
  },
  {
   "cell_type": "code",
   "execution_count": 73,
   "metadata": {
    "colab": {},
    "colab_type": "code",
    "id": "iAw-LW-PpYV5",
    "outputId": "c112d47f-6cb6-4be2-f212-469777c8d17e"
   },
   "outputs": [
    {
     "name": "stdout",
     "output_type": "stream",
     "text": [
      "Index(['ft_5', 'ft_4', 'ft_3', 'ft_2', 'ft_1', 'amp1', 'amp2', 'amp3', 'amp4',\n",
      "       'amp5', 'freq1', 'freq2', 'freq3', 'freq4', 'freq5', 'lat', 'lon',\n",
      "       'weekday', 'exp_avg', 'holt_2exp_feature', 'holt_winter_3exp_feature'],\n",
      "      dtype='object')\n",
      "[4.10266989e-02 4.68910421e-02 8.16174639e-02 9.21024551e-02\n",
      " 1.16445305e-01 1.07856249e-02 3.35777926e-03 4.87201869e-03\n",
      " 3.03248110e-03 2.87230813e-03 3.90639136e-05 3.98205440e-05\n",
      " 4.18543337e-05 3.97779159e-05 4.17126466e-05 5.06493314e-04\n",
      " 5.51738386e-04 3.55574382e-04 1.54004671e-01 1.75515509e-01\n",
      " 2.65860607e-01]\n"
     ]
    },
    {
     "data": {
      "image/png": "[encoded data removed]",
      "text/plain": [
       "<Figure size 648x360 with 1 Axes>"
      ]
     },
     "metadata": {
      "needs_background": "light"
     },
     "output_type": "display_data"
    }
   ],
   "source": [
    "#feature importances based on analysis using random forest\n",
    "print (df_train.columns)\n",
    "print (regr1.feature_importances_)\n",
    "\n",
    "plt.figure(figsize=(9,5))\n",
    "plt.title(\"Feature Importance : RF\")\n",
    "plt.bar(df_train.columns,regr1.feature_importances_)\n",
    "plt.xticks(np.arange(len(df_train.columns)),df_train.columns,rotation=75)\n",
    "plt.grid()\n",
    "plt.show()"
   ]
  },
  {
   "cell_type": "markdown",
   "metadata": {
    "colab_type": "text",
    "id": "4p0IhKaSpYV6"
   },
   "source": [
    "### Using XgBoost Regressor"
   ]
  },
  {
   "cell_type": "code",
   "execution_count": null,
   "metadata": {},
   "outputs": [],
   "source": [
    "## Hyper Parameter tuning using random search\n",
    "from sklearn.model_selection import RandomizedSearchCV\n",
    "\n",
    "clf_xgb = xgb.XGBRegressor(learning_rate =0.1,n_estimators=1000,max_depth=3, nthread=-1)\n",
    "\n",
    "param={'max_depth':[3,5,10,15,30],\"n_estimators\":[100,200,500,1000],\"learning_rate\":[1,0.1,0.01]}\n",
    "\n",
    "rscv= RandomizedSearchCV(estimator = clf_xgb, param_distributions = param, scoring='neg_mean_absolute_error', n_jobs=1,verbose=10)\n",
    "rscv.fit(df_train, tsne_train_output)"
   ]
  },
  {
   "cell_type": "code",
   "execution_count": null,
   "metadata": {},
   "outputs": [],
   "source": [
    "## Hyper Parameter tuning using random search\n",
    "from sklearn.model_selection import RandomizedSearchCV\n",
    "\n",
    "clf_xgb = xgb.XGBRegressor(learning_rate =0.1,n_estimators=1000,max_depth=3, nthread=-1)\n",
    "\n",
    "param={'max_depth':[3,5,10,15,30],\"n_estimators\":[100,200,500,1000],\"learning_rate\":[1,0.1,0.01]}\n",
    "\n",
    "rscv= RandomizedSearchCV(estimator = clf_xgb, param_distributions = param, scoring='neg_mean_absolute_error', n_jobs=1,verbose=10)\n",
    "rscv.fit(df_train, tsne_train_output)"
   ]
  },
  {
   "cell_type": "code",
   "execution_count": 75,
   "metadata": {},
   "outputs": [
    {
     "name": "stdout",
     "output_type": "stream",
     "text": [
      "Best Param:  {'n_estimators': 500, 'max_depth': 10, 'learning_rate': 0.01}\n",
      "\n",
      "Best Score:  2.218369189599684\n"
     ]
    }
   ],
   "source": [
    "print(\"Best Param: \",rscv.best_params_)\n",
    "print(\"\\nBest Score: \",-rscv.best_score_)"
   ]
  },
  {
   "cell_type": "code",
   "execution_count": 66,
   "metadata": {
    "colab": {},
    "colab_type": "code",
    "id": "nP3gp-0kpYV7",
    "outputId": "f87b350e-7419-4706-eb0e-ff01b298572c"
   },
   "outputs": [
    {
     "name": "stdout",
     "output_type": "stream",
     "text": [
      "[16:32:56] WARNING: /workspace/src/objective/regression_obj.cu:152: reg:linear is now deprecated in favor of reg:squarederror.\n",
      "Train MAPE :  0.03919242740659407\n",
      "Test MAPE :  0.03906713008882744\n"
     ]
    }
   ],
   "source": [
    "# Traninng with optimal Hyperparameter\n",
    "\n",
    "x_model = xgb.XGBRegressor(\n",
    " learning_rate =0.01,\n",
    " n_estimators=500,\n",
    " max_depth=10,\n",
    " min_child_weight=3,\n",
    " gamma=0,\n",
    " subsample=0.8,\n",
    " reg_alpha=200, reg_lambda=200,\n",
    " colsample_bytree=0.8,nthread=4)\n",
    "\n",
    "x_model.fit(df_train, tsne_train_output)\n",
    "\n",
    "#predicting with our trained Xg-Boost regressor\n",
    "# the models x_model is already hyper parameter tuned\n",
    "# the parameters that we got above are found using grid search\n",
    "\n",
    "y_pred = x_model.predict(df_test)\n",
    "xgb_test_predictions = [round(value) for value in y_pred]\n",
    "y_pred = x_model.predict(df_train)\n",
    "xgb_train_predictions = [round(value) for value in y_pred]\n",
    "\n",
    "\n",
    "print(\"Train MAPE : \",(mean_absolute_error(tsne_train_output, xgb_train_predictions))/(sum(tsne_train_output)/len(tsne_train_output)))\n",
    "print(\"Test MAPE : \",(mean_absolute_error(tsne_test_output, xgb_test_predictions))/(sum(tsne_test_output)/len(tsne_test_output)))"
   ]
  },
  {
   "cell_type": "code",
   "execution_count": 77,
   "metadata": {},
   "outputs": [
    {
     "data": {
      "text/plain": [
       "<Figure size 648x360 with 0 Axes>"
      ]
     },
     "metadata": {},
     "output_type": "display_data"
    },
    {
     "data": {
      "image/png": "[encoded data removed]",
      "text/plain": [
       "<Figure size 432x288 with 1 Axes>"
      ]
     },
     "metadata": {
      "needs_background": "light"
     },
     "output_type": "display_data"
    }
   ],
   "source": [
    "# Feature Importance of XGBoost Regressor\n",
    "from xgboost import plot_importance\n",
    "plt.figure(figsize=(9,5))\n",
    "plot_importance(x_model,height=0.3)\n",
    "plt.show()"
   ]
  },
  {
   "cell_type": "markdown",
   "metadata": {},
   "source": [
    "### Result"
   ]
  },
  {
   "cell_type": "code",
   "execution_count": 67,
   "metadata": {},
   "outputs": [],
   "source": [
    "train_mape=[]\n",
    "test_mape=[]\n",
    "\n",
    "train_mape.append((mean_absolute_error(tsne_train_output,df_train['ft_1'].values))/(sum(tsne_train_output)/len(tsne_train_output)))\n",
    "train_mape.append((mean_absolute_error(tsne_train_output,df_train['exp_avg'].values))/(sum(tsne_train_output)/len(tsne_train_output)))\n",
    "train_mape.append((mean_absolute_error(tsne_train_output,df_train['holt_2exp_feature'].values))/(sum(tsne_train_output)/len(tsne_train_output)))\n",
    "train_mape.append((mean_absolute_error(tsne_train_output,df_train['holt_winter_3exp_feature'].values))/(sum(tsne_train_output)/len(tsne_train_output)))\n",
    "train_mape.append((mean_absolute_error(tsne_train_output, lr_train_predictions))/(sum(tsne_train_output)/len(tsne_train_output)))\n",
    "train_mape.append((mean_absolute_error(tsne_train_output,rndf_train_predictions))/(sum(tsne_train_output)/len(tsne_train_output)))\n",
    "train_mape.append((mean_absolute_error(tsne_train_output, xgb_train_predictions))/(sum(tsne_train_output)/len(tsne_train_output)))\n",
    "\n",
    "\n",
    "\n",
    "test_mape.append((mean_absolute_error(tsne_test_output, df_test['ft_1'].values))/(sum(tsne_test_output)/len(tsne_test_output)))\n",
    "test_mape.append((mean_absolute_error(tsne_test_output, df_test['exp_avg'].values))/(sum(tsne_test_output)/len(tsne_test_output)))\n",
    "test_mape.append((mean_absolute_error(tsne_test_output, df_test['holt_2exp_feature'].values))/(sum(tsne_test_output)/len(tsne_test_output)))\n",
    "test_mape.append((mean_absolute_error(tsne_test_output, df_test['holt_winter_3exp_feature'].values))/(sum(tsne_test_output)/len(tsne_test_output)))\n",
    "test_mape.append((mean_absolute_error(tsne_test_output, lr_test_predictions))/(sum(tsne_test_output)/len(tsne_test_output)))\n",
    "test_mape.append((mean_absolute_error(tsne_test_output, rndf_test_predictions))/(sum(tsne_test_output)/len(tsne_test_output)))\n",
    "test_mape.append((mean_absolute_error(tsne_test_output, xgb_test_predictions))/(sum(tsne_test_output)/len(tsne_test_output)))\n"
   ]
  },
  {
   "cell_type": "markdown",
   "metadata": {
    "colab_type": "text",
    "id": "dsWghvyVpYWE"
   },
   "source": [
    "### Error Metric Matrix"
   ]
  },
  {
   "cell_type": "code",
   "execution_count": 68,
   "metadata": {},
   "outputs": [
    {
     "name": "stdout",
     "output_type": "stream",
     "text": [
      "Error Metric Matrix (Tree Based Regression Methods) -  MAPE\n",
      "--------------------------------------------------------------------------------------------------------\n",
      "Baseline Model -                                         Train:  0.14870666996426116       Test:  0.14225522601041551\n",
      "Exponential Averages Forecasting -                       Train:  0.14121603560900353       Test:  0.13490049942819257\n",
      "Holt Double Exponential Averages Forecasting -           Train:  0.10413810004833247       Test:  0.09959478141081789\n",
      "Holt Wint Tripple Exponential Averages Forecasting -     Train:  0.05160889036066572       Test:  0.04889349525540393\n",
      "Linear Regression + Feature Eng.-                       Train:  0.0387738969024487       Test:  0.03493433401929968\n",
      "Random Forest Regression + Feature Eng.-                 Train:  0.013369995703600486       Test:  0.037977358077754604\n",
      "XgBoost Regression + Feature Eng.-                       Train:  0.03919242740659407       Test:  0.03906713008882744\n",
      "--------------------------------------------------------------------------------------------------------\n"
     ]
    }
   ],
   "source": [
    "# include onle 3 exp\n",
    "print (\"Error Metric Matrix (Tree Based Regression Methods) -  MAPE\")\n",
    "print (\"--------------------------------------------------------------------------------------------------------\")\n",
    "print (\"Baseline Model -                                         Train: \",train_mape[0],\"      Test: \",test_mape[0])\n",
    "print (\"Exponential Averages Forecasting -                       Train: \",train_mape[1],\"      Test: \",test_mape[1])\n",
    "print (\"Holt Double Exponential Averages Forecasting -           Train: \",train_mape[2],\"      Test: \",test_mape[2])\n",
    "print (\"Holt Wint Tripple Exponential Averages Forecasting -     Train: \",train_mape[3],\"      Test: \",test_mape[3])\n",
    "print (\"Linear Regression + Feature Eng.-                       Train: \",train_mape[4],\"      Test: \",test_mape[4])\n",
    "print (\"Random Forest Regression + Feature Eng.-                 Train: \",train_mape[5],\"      Test: \",test_mape[5])\n",
    "print (\"XgBoost Regression + Feature Eng.-                       Train: \",train_mape[6],\"      Test: \",test_mape[6])\n",
    "print (\"--------------------------------------------------------------------------------------------------------\")"
   ]
  },
  {
   "cell_type": "markdown",
   "metadata": {},
   "source": [
    "# Conclusion"
   ]
  },
  {
   "cell_type": "markdown",
   "metadata": {},
   "source": [
    "Best MAPE score is 0.034  using Linear regression on all the features.\n",
    "\n",
    "Adding Holt double and triple Exponential smoothing feaure is definitely improved the model in the great way. \n"
   ]
  },
  {
   "cell_type": "markdown",
   "metadata": {},
   "source": [
    "END :)"
   ]
  }
 ],
 "metadata": {
  "colab": {
   "name": "NYC Final.ipynb",
   "provenance": [],
   "version": "0.3.2"
  },
  "kernelspec": {
   "display_name": "Python 3",
   "language": "python",
   "name": "python3"
  },
  "language_info": {
   "codemirror_mode": {
    "name": "ipython",
    "version": 3
   },
   "file_extension": ".py",
   "mimetype": "text/x-python",
   "name": "python",
   "nbconvert_exporter": "python",
   "pygments_lexer": "ipython3",
   "version": "3.7.3"
  }
 },
 "nbformat": 4,
 "nbformat_minor": 1
}
